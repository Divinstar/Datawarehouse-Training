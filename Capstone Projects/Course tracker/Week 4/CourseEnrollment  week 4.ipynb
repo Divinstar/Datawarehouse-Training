{
 "cells": [
  {
   "cell_type": "code",
   "execution_count": 0,
   "metadata": {
    "application/vnd.databricks.v1+cell": {
     "cellMetadata": {
      "byteLimit": 2048000,
      "rowLimit": 10000
     },
     "inputWidgets": {},
     "nuid": "d1c8c8ec-7409-495d-9fd4-f5c8477d89ae",
     "showTitle": false,
     "tableResultSettingsMap": {},
     "title": ""
    }
   },
   "outputs": [],
   "source": [
    "from pyspark.sql import SparkSession\n",
    "\n",
    "spark = SparkSession.builder.appName(\"course\").getOrCreate()"
   ]
  },
  {
   "cell_type": "markdown",
   "metadata": {
    "application/vnd.databricks.v1+cell": {
     "cellMetadata": {},
     "inputWidgets": {},
     "nuid": "a6a866e5-5acc-4522-9dc4-379c8d944c6b",
     "showTitle": false,
     "tableResultSettingsMap": {},
     "title": ""
    }
   },
   "source": [
    "# Load Cleaned Data"
   ]
  },
  {
   "cell_type": "code",
   "execution_count": 0,
   "metadata": {
    "application/vnd.databricks.v1+cell": {
     "cellMetadata": {
      "byteLimit": 2048000,
      "rowLimit": 10000
     },
     "inputWidgets": {},
     "nuid": "88b0ba7b-25da-4a3b-8859-44d6be039a45",
     "showTitle": false,
     "tableResultSettingsMap": {},
     "title": ""
    }
   },
   "outputs": [],
   "source": [
    "\n",
    "# Week 4 - Task 1: Load cleaned data\n",
    "\n",
    "\n",
    "\n",
    "# Replace with your actual path if different\n",
    "students_df = spark.read.option(\"header\", True).csv(\"file:/Workspace/Shared/students.csv\")\n",
    "courses_df = spark.read.option(\"header\", True).csv(\"file:/Workspace/Shared/courses.csv\")\n",
    "enrollments_df = spark.read.option(\"header\", True).csv(\"file:/Workspace/Shared/enrollments.csv\")\n",
    "progress_df = spark.read.option(\"header\", True).csv(\"file:/Workspace/Shared/progress.csv\")\n"
   ]
  },
  {
   "cell_type": "markdown",
   "metadata": {
    "application/vnd.databricks.v1+cell": {
     "cellMetadata": {},
     "inputWidgets": {},
     "nuid": "81fe6300-8aee-410c-abec-64d84d81875d",
     "showTitle": false,
     "tableResultSettingsMap": {},
     "title": ""
    }
   },
   "source": [
    "# Check Schemas and Preview"
   ]
  },
  {
   "cell_type": "code",
   "execution_count": 0,
   "metadata": {
    "application/vnd.databricks.v1+cell": {
     "cellMetadata": {
      "byteLimit": 2048000,
      "rowLimit": 10000
     },
     "inputWidgets": {},
     "nuid": "0bd201ea-1ded-4a5b-8446-1556b5325d83",
     "showTitle": false,
     "tableResultSettingsMap": {},
     "title": ""
    }
   },
   "outputs": [
    {
     "output_type": "stream",
     "name": "stdout",
     "output_type": "stream",
     "text": [
      "root\n |-- student_id: string (nullable = true)\n |-- student_name: string (nullable = true)\n\n+----------+------------+\n|student_id|student_name|\n+----------+------------+\n|      S008|       Alice|\n|      S017|         Bob|\n|      S009|       Carol|\n|      S018|       David|\n|      S002|         Eve|\n+----------+------------+\n\nroot\n |-- course_id: string (nullable = true)\n |-- course_name: string (nullable = true)\n\n+---------+---------------+\n|course_id|    course_name|\n+---------+---------------+\n|     C001|         Python|\n|     C002|   Data Science|\n|     C004|      AI Basics|\n|     C005|Cloud Computing|\n+---------+---------------+\n\n"
     ]
    }
   ],
   "source": [
    "\n",
    "students_df.printSchema()\n",
    "students_df.show(5)\n",
    "\n",
    "courses_df.printSchema()\n",
    "courses_df.show(5)\n"
   ]
  },
  {
   "cell_type": "markdown",
   "metadata": {
    "application/vnd.databricks.v1+cell": {
     "cellMetadata": {},
     "inputWidgets": {},
     "nuid": "e5da2dc2-91ac-4d2e-89d9-8689f749c7c9",
     "showTitle": false,
     "tableResultSettingsMap": {},
     "title": ""
    }
   },
   "source": [
    "# Join DataFrames\n"
   ]
  },
  {
   "cell_type": "code",
   "execution_count": 0,
   "metadata": {
    "application/vnd.databricks.v1+cell": {
     "cellMetadata": {
      "byteLimit": 2048000,
      "rowLimit": 10000
     },
     "inputWidgets": {},
     "nuid": "03fb1e9c-8cdd-492f-9d2b-90dfe0f33ef6",
     "showTitle": false,
     "tableResultSettingsMap": {},
     "title": ""
    }
   },
   "outputs": [],
   "source": [
    " \n",
    "# Join enrollments with students\n",
    "joined_df = enrollments_df.join(students_df, on=\"student_id\", how=\"inner\")\n",
    "\n",
    "# Join with courses\n",
    "joined_df = joined_df.join(courses_df, on=\"course_id\", how=\"inner\")\n",
    "\n",
    "# Join with progress\n",
    "final_df = joined_df.join(progress_df, on=[\"student_id\", \"course_id\"], how=\"left\")\n"
   ]
  },
  {
   "cell_type": "markdown",
   "metadata": {
    "application/vnd.databricks.v1+cell": {
     "cellMetadata": {},
     "inputWidgets": {},
     "nuid": "d19b31d3-b8fb-4bb1-91b2-cb914590e088",
     "showTitle": false,
     "tableResultSettingsMap": {},
     "title": ""
    }
   },
   "source": [
    "# Select Required Columns"
   ]
  },
  {
   "cell_type": "code",
   "execution_count": 0,
   "metadata": {
    "application/vnd.databricks.v1+cell": {
     "cellMetadata": {
      "byteLimit": 2048000,
      "rowLimit": 10000
     },
     "inputWidgets": {},
     "nuid": "8d28337f-a630-4354-852d-a8b9436472be",
     "showTitle": false,
     "tableResultSettingsMap": {},
     "title": ""
    }
   },
   "outputs": [],
   "source": [
    "from pyspark.sql.functions import col\n",
    "\n",
    "result_df = final_df.select(\n",
    "    col(\"student_name\"),\n",
    "    col(\"course_name\"),\n",
    "    col(\"enrollment_date\"),\n",
    "    col(\"progress\")  \n",
    ")\n",
    "\n"
   ]
  },
  {
   "cell_type": "markdown",
   "metadata": {
    "application/vnd.databricks.v1+cell": {
     "cellMetadata": {},
     "inputWidgets": {},
     "nuid": "65ccf746-8da6-48de-95a5-6b692d13ec03",
     "showTitle": false,
     "tableResultSettingsMap": {},
     "title": ""
    }
   },
   "source": [
    "# Save Final Table as Delta & CSV"
   ]
  },
  {
   "cell_type": "code",
   "execution_count": 0,
   "metadata": {
    "application/vnd.databricks.v1+cell": {
     "cellMetadata": {
      "byteLimit": 2048000,
      "rowLimit": 10000
     },
     "inputWidgets": {},
     "nuid": "fc7fc6f1-eb49-4bb9-a8c0-66dc8e1102a1",
     "showTitle": false,
     "tableResultSettingsMap": {},
     "title": ""
    }
   },
   "outputs": [],
   "source": [
    "\n",
    "# Save as Delta table\n",
    "result_df.write.format(\"delta\").mode(\"overwrite\").save(\"dbfs:/FileStore/final_course_progress_delta\")\n",
    "\n",
    "# Save as CSV\n",
    "result_df.write.option(\"header\", True).mode(\"overwrite\").csv(\"dbfs:/FileStore/final_course_progress_csv\")\n"
   ]
  }
 ],
 "metadata": {
  "application/vnd.databricks.v1+notebook": {
   "computePreferences": null,
   "dashboards": [],
   "environmentMetadata": {
    "base_environment": "",
    "environment_version": "2"
   },
   "inputWidgetPreferences": null,
   "language": "python",
   "notebookMetadata": {
    "pythonIndentUnit": 4
   },
   "notebookName": "CourseEnrollment  week 4",
   "widgets": {}
  },
  "language_info": {
   "name": "python"
  }
 },
 "nbformat": 4,
 "nbformat_minor": 0
}