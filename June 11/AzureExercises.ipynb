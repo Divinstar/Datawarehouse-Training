{
 "cells": [
  {
   "cell_type": "code",
   "execution_count": 0,
   "metadata": {
    "application/vnd.databricks.v1+cell": {
     "cellMetadata": {
      "byteLimit": 2048000,
      "rowLimit": 10000
     },
     "inputWidgets": {},
     "nuid": "54c7a6e2-45e0-4ecd-a5fe-736635a63e5d",
     "showTitle": false,
     "tableResultSettingsMap": {},
     "title": ""
    }
   },
   "outputs": [
    {
     "output_type": "execute_result",
     "data": {
      "text/html": [
       "\n",
       "            <div>\n",
       "                <p><b>SparkSession - hive</b></p>\n",
       "                \n",
       "        <div>\n",
       "            <p><b>SparkContext</b></p>\n",
       "\n",
       "            <p><a href=\"/?o=2209457512301869#setting/sparkui/0611-043336-syhwrm2t/driver-1094461714714331476\">Spark UI</a></p>\n",
       "\n",
       "            <dl>\n",
       "              <dt>Version</dt>\n",
       "                <dd><code>v3.5.0</code></dd>\n",
       "              <dt>Master</dt>\n",
       "                <dd><code>local[*, 4]</code></dd>\n",
       "              <dt>AppName</dt>\n",
       "                <dd><code>Databricks Shell</code></dd>\n",
       "            </dl>\n",
       "        </div>\n",
       "        \n",
       "            </div>\n",
       "        "
      ],
      "text/plain": [
       "<pyspark.sql.session.SparkSession at 0x7fc7c2b91490>"
      ]
     },
     "execution_count": 15,
     "metadata": {},
     "output_type": "execute_result"
    }
   ],
   "source": [
    "from pyspark.sql import SparkSession\n",
    "\n",
    "spark=SparkSession.builder.appName(\"FirstNotebook\").getOrCreate()\n",
    "spark\n",
    "\n"
   ]
  },
  {
   "cell_type": "code",
   "execution_count": 0,
   "metadata": {
    "application/vnd.databricks.v1+cell": {
     "cellMetadata": {
      "byteLimit": 2048000,
      "rowLimit": 10000
     },
     "inputWidgets": {},
     "nuid": "b02da8b3-6233-4964-b71b-d2650d548a75",
     "showTitle": false,
     "tableResultSettingsMap": {},
     "title": ""
    }
   },
   "outputs": [
    {
     "output_type": "stream",
     "name": "stdout",
     "output_type": "stream",
     "text": [
      "+------+-----------+------+\n|  Name| Department|Salary|\n+------+-----------+------+\n|Ananya|         HR| 52000|\n| Rahul|Engineering| 65000|\n| Priya|Engineering| 60000|\n|  Zoya|  Marketing| 48000|\n| Karan|         HR| 53000|\n|Naveen|Engineering| 70000|\n|Fatima|  Marketing| 45000|\n+------+-----------+------+\n\nroot\n |-- Name: string (nullable = true)\n |-- Department: string (nullable = true)\n |-- Salary: long (nullable = true)\n\n"
     ]
    },
    {
     "output_type": "execute_result",
     "data": {
      "text/plain": [
       "7"
      ]
     },
     "execution_count": 16,
     "metadata": {},
     "output_type": "execute_result"
    }
   ],
   "source": [
    "# Exercise Set 1: Basics\n",
    "# 1. Display all records in the DataFrame.\n",
    "# 2. Print the schema of the DataFrame.\n",
    "# 3. Count total number of employees.\n",
    "from pyspark.sql import SparkSession\n",
    "\n",
    "data = [\n",
    "(\"Ananya\", \"HR\", 52000),\n",
    "(\"Rahul\", \"Engineering\", 65000),\n",
    "(\"Priya\", \"Engineering\", 60000),\n",
    "(\"Zoya\", \"Marketing\", 48000),\n",
    "(\"Karan\", \"HR\", 53000),\n",
    "(\"Naveen\", \"Engineering\", 70000),\n",
    "(\"Fatima\", \"Marketing\", 45000)\n",
    "]\n",
    "columns = [\"Name\", \"Department\", \"Salary\"]\n",
    "\n",
    "df = spark.createDataFrame(data, columns)\n",
    "\n",
    "df.show()\n",
    "df.printSchema()\n",
    "df.count()\n"
   ]
  },
  {
   "cell_type": "code",
   "execution_count": 0,
   "metadata": {
    "application/vnd.databricks.v1+cell": {
     "cellMetadata": {
      "byteLimit": 2048000,
      "rowLimit": 10000
     },
     "inputWidgets": {},
     "nuid": "100f714d-4882-4a1d-b6b5-0ddf2b3ac1e7",
     "showTitle": false,
     "tableResultSettingsMap": {},
     "title": ""
    }
   },
   "outputs": [
    {
     "output_type": "stream",
     "name": "stdout",
     "output_type": "stream",
     "text": [
      "+------+-----------+------+-------+\n|  Name| Department|Salary|  Bonus|\n+------+-----------+------+-------+\n|Ananya|         HR| 52000| 7800.0|\n| Rahul|Engineering| 65000| 9750.0|\n| Priya|Engineering| 60000| 9000.0|\n|  Zoya|  Marketing| 48000| 7200.0|\n| Karan|         HR| 53000| 7950.0|\n|Naveen|Engineering| 70000|10500.0|\n|Fatima|  Marketing| 45000| 6750.0|\n+------+-----------+------+-------+\n\n+------+-----------+------+-------+-------+\n|  Name| Department|Salary|  Bonus| NetPay|\n+------+-----------+------+-------+-------+\n|Ananya|         HR| 52000| 7800.0|59800.0|\n| Rahul|Engineering| 65000| 9750.0|74750.0|\n| Priya|Engineering| 60000| 9000.0|69000.0|\n|  Zoya|  Marketing| 48000| 7200.0|55200.0|\n| Karan|         HR| 53000| 7950.0|60950.0|\n|Naveen|Engineering| 70000|10500.0|80500.0|\n|Fatima|  Marketing| 45000| 6750.0|51750.0|\n+------+-----------+------+-------+-------+\n\n"
     ]
    }
   ],
   "source": [
    "# Exercise Set 2: Column Operations\n",
    "# 4. Add a new column Bonus which is 15% of Salary.\n",
    "# 5. Add a new column NetPay = Salary + Bonus.\n",
    "\n",
    "from pyspark.sql.functions import col\n",
    "\n",
    "bonus = df.withColumn(\"Bonus\", col(\"Salary\") * 0.15)\n",
    "bonus.show()\n",
    "\n",
    "netpay = bonus.withColumn(\"NetPay\", col(\"Salary\") + col(\"Bonus\"))\n",
    "netpay.show()\n"
   ]
  },
  {
   "cell_type": "code",
   "execution_count": 0,
   "metadata": {
    "application/vnd.databricks.v1+cell": {
     "cellMetadata": {
      "byteLimit": 2048000,
      "rowLimit": 10000
     },
     "inputWidgets": {},
     "nuid": "9e368141-5ef1-4115-90c0-b64a0013b6ce",
     "showTitle": false,
     "tableResultSettingsMap": {},
     "title": ""
    }
   },
   "outputs": [
    {
     "output_type": "stream",
     "name": "stdout",
     "output_type": "stream",
     "text": [
      "+------+-----------+------+\n|  Name| Department|Salary|\n+------+-----------+------+\n| Rahul|Engineering| 65000|\n| Priya|Engineering| 60000|\n|Naveen|Engineering| 70000|\n+------+-----------+------+\n\n+------+-----------+------+\n|  Name| Department|Salary|\n+------+-----------+------+\n| Rahul|Engineering| 65000|\n|Naveen|Engineering| 70000|\n+------+-----------+------+\n\n+------+-----------+------+\n|  Name| Department|Salary|\n+------+-----------+------+\n|Ananya|         HR| 52000|\n| Rahul|Engineering| 65000|\n| Priya|Engineering| 60000|\n| Karan|         HR| 53000|\n|Naveen|Engineering| 70000|\n+------+-----------+------+\n\n"
     ]
    }
   ],
   "source": [
    "# Exercise Set 3: Filtering and Conditions\n",
    "# 6. Display only employees from the “Engineering” department.\n",
    "# 7. Display employees whose salary is greater than 60000.\n",
    "# 8. Display employees who are not in the “Marketing” department.\n",
    "\n",
    "df.filter(col(\"Department\") == \"Engineering\").show()\n",
    "df.filter(col(\"Salary\") > 60000).show()\n",
    "df.filter(col(\"Department\") != \"Marketing\").show()\n"
   ]
  },
  {
   "cell_type": "code",
   "execution_count": 0,
   "metadata": {
    "application/vnd.databricks.v1+cell": {
     "cellMetadata": {
      "byteLimit": 2048000,
      "rowLimit": 10000
     },
     "inputWidgets": {},
     "nuid": "a4e9a173-3a8f-4bd5-9b9b-5802ac7f0ba4",
     "showTitle": false,
     "tableResultSettingsMap": {},
     "title": ""
    }
   },
   "outputs": [
    {
     "output_type": "stream",
     "name": "stdout",
     "output_type": "stream",
     "text": [
      "+------+-----------+------+\n|  Name| Department|Salary|\n+------+-----------+------+\n|Naveen|Engineering| 70000|\n| Rahul|Engineering| 65000|\n| Priya|Engineering| 60000|\n+------+-----------+------+\nonly showing top 3 rows\n\n+------+-----------+------+\n|  Name| Department|Salary|\n+------+-----------+------+\n|Naveen|Engineering| 70000|\n| Rahul|Engineering| 65000|\n| Priya|Engineering| 60000|\n| Karan|         HR| 53000|\n|Ananya|         HR| 52000|\n|  Zoya|  Marketing| 48000|\n|Fatima|  Marketing| 45000|\n+------+-----------+------+\n\n"
     ]
    }
   ],
   "source": [
    "# Exercise Set 4: Sorting and Limiting\n",
    "# 9. Show top 3 highest paid employees.\n",
    "# 10. Sort the data by Department ascending and Salary descending.\n",
    "\n",
    "df.orderBy(col(\"Salary\").desc()).show(3)\n",
    "df.orderBy(col(\"Department\").asc(), col(\"Salary\").desc()).show()\n"
   ]
  },
  {
   "cell_type": "code",
   "execution_count": 0,
   "metadata": {
    "application/vnd.databricks.v1+cell": {
     "cellMetadata": {
      "byteLimit": 2048000,
      "rowLimit": 10000
     },
     "inputWidgets": {},
     "nuid": "07339041-430c-4768-8c9e-131e7def9f31",
     "showTitle": false,
     "tableResultSettingsMap": {},
     "title": ""
    }
   },
   "outputs": [
    {
     "output_type": "stream",
     "name": "stdout",
     "output_type": "stream",
     "text": [
      "+------+-----------+------+------+\n|  Name| Department|Salary| Level|\n+------+-----------+------+------+\n|Ananya|         HR| 52000|   Mid|\n| Rahul|Engineering| 65000|Senior|\n| Priya|Engineering| 60000|   Mid|\n|  Zoya|  Marketing| 48000|Junior|\n| Karan|         HR| 53000|   Mid|\n|Naveen|Engineering| 70000|Senior|\n|Fatima|  Marketing| 45000|Junior|\n+------+-----------+------+------+\n\n+------+-----------+------+----------+\n|  Name| Department|Salary|Name_Upper|\n+------+-----------+------+----------+\n|Ananya|         HR| 52000|    ANANYA|\n| Rahul|Engineering| 65000|     RAHUL|\n| Priya|Engineering| 60000|     PRIYA|\n|  Zoya|  Marketing| 48000|      ZOYA|\n| Karan|         HR| 53000|     KARAN|\n|Naveen|Engineering| 70000|    NAVEEN|\n|Fatima|  Marketing| 45000|    FATIMA|\n+------+-----------+------+----------+\n\n"
     ]
    }
   ],
   "source": [
    "# Exercise Set 5: String and Case Logic\n",
    "# 11. Add a new column Level :\n",
    "# “Senior” if salary > 60000\n",
    "# “Mid” if salary between 50000 and 60000\n",
    "# “Junior” otherwise\n",
    "# 12. Convert all names to uppercase.\n",
    "\n",
    "from pyspark.sql.functions import when, upper\n",
    "level = df.withColumn(\n",
    "    \"Level\",\n",
    "    when(col(\"Salary\") > 60000, \"Senior\")\n",
    "    .when((col(\"Salary\") >= 50000) & (col(\"Salary\") <= 60000), \"Mid\")\n",
    "    .otherwise(\"Junior\")\n",
    ")\n",
    "level.show()\n",
    "\n",
    "uppercase = df.withColumn(\"Name_Upper\", upper(col(\"Name\")))\n",
    "uppercase.show()\n"
   ]
  }
 ],
 "metadata": {
  "application/vnd.databricks.v1+notebook": {
   "computePreferences": null,
   "dashboards": [],
   "environmentMetadata": {
    "base_environment": "",
    "environment_version": "2"
   },
   "inputWidgetPreferences": null,
   "language": "python",
   "notebookMetadata": {
    "pythonIndentUnit": 4
   },
   "notebookName": "AzureExercises",
   "widgets": {}
  },
  "language_info": {
   "name": "python"
  }
 },
 "nbformat": 4,
 "nbformat_minor": 0
}