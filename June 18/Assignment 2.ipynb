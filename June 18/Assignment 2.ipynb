{
  "nbformat": 4,
  "nbformat_minor": 0,
  "metadata": {
    "colab": {
      "provenance": []
    },
    "kernelspec": {
      "name": "python3",
      "display_name": "Python 3"
    },
    "language_info": {
      "name": "python"
    }
  },
  "cells": [
    {
      "cell_type": "code",
      "execution_count": 1,
      "metadata": {
        "id": "t2CxTfxf4XpC"
      },
      "outputs": [],
      "source": [
        "!rm -rf /content/spark-3.4.1-bin-hadoop3\n",
        "!rm -rf /content/spark-3.3.0-bin-hadoop3\n",
        "\n",
        "\n",
        "!apt-get install openjdk-8-jdk-headless -qq > /dev/null\n",
        "\n",
        "!wget -q https://archive.apache.org/dist/spark/spark-3.3.0/spark-3.3.0-bin-hadoop3.tgz\n",
        "!tar xf spark-3.3.0-bin-hadoop3.tgz\n",
        "\n",
        "!pip install -q findspark\n",
        "\n",
        "import os\n",
        "os.environ[\"JAVA_HOME\"] = \"/usr/lib/jvm/java-8-openjdk-amd64\"\n",
        "os.environ[\"SPARK_HOME\"] = \"/content/spark-3.3.0-bin-hadoop3\"\n",
        "\n",
        "import findspark\n",
        "findspark.init()\n",
        "\n",
        "from pyspark.sql import SparkSession\n",
        "from pyspark.sql.functions import col, count, avg, desc, sum as _sum\n",
        "\n",
        "spark = SparkSession.builder.appName(\"Retail\").getOrCreate()"
      ]
    },
    {
      "cell_type": "code",
      "source": [
        "from google.colab import files\n",
        "uploaded = files.upload()\n"
      ],
      "metadata": {
        "colab": {
          "base_uri": "https://localhost:8080/",
          "height": 74
        },
        "id": "oGFNToxF4Z_H",
        "outputId": "67430a0d-fe99-4e43-d2b3-95457ec0426e"
      },
      "execution_count": 2,
      "outputs": [
        {
          "output_type": "display_data",
          "data": {
            "text/plain": [
              "<IPython.core.display.HTML object>"
            ],
            "text/html": [
              "\n",
              "     <input type=\"file\" id=\"files-69a4daca-a4b1-4f39-9b0c-3c20abe4335e\" name=\"files[]\" multiple disabled\n",
              "        style=\"border:none\" />\n",
              "     <output id=\"result-69a4daca-a4b1-4f39-9b0c-3c20abe4335e\">\n",
              "      Upload widget is only available when the cell has been executed in the\n",
              "      current browser session. Please rerun this cell to enable.\n",
              "      </output>\n",
              "      <script>// Copyright 2017 Google LLC\n",
              "//\n",
              "// Licensed under the Apache License, Version 2.0 (the \"License\");\n",
              "// you may not use this file except in compliance with the License.\n",
              "// You may obtain a copy of the License at\n",
              "//\n",
              "//      http://www.apache.org/licenses/LICENSE-2.0\n",
              "//\n",
              "// Unless required by applicable law or agreed to in writing, software\n",
              "// distributed under the License is distributed on an \"AS IS\" BASIS,\n",
              "// WITHOUT WARRANTIES OR CONDITIONS OF ANY KIND, either express or implied.\n",
              "// See the License for the specific language governing permissions and\n",
              "// limitations under the License.\n",
              "\n",
              "/**\n",
              " * @fileoverview Helpers for google.colab Python module.\n",
              " */\n",
              "(function(scope) {\n",
              "function span(text, styleAttributes = {}) {\n",
              "  const element = document.createElement('span');\n",
              "  element.textContent = text;\n",
              "  for (const key of Object.keys(styleAttributes)) {\n",
              "    element.style[key] = styleAttributes[key];\n",
              "  }\n",
              "  return element;\n",
              "}\n",
              "\n",
              "// Max number of bytes which will be uploaded at a time.\n",
              "const MAX_PAYLOAD_SIZE = 100 * 1024;\n",
              "\n",
              "function _uploadFiles(inputId, outputId) {\n",
              "  const steps = uploadFilesStep(inputId, outputId);\n",
              "  const outputElement = document.getElementById(outputId);\n",
              "  // Cache steps on the outputElement to make it available for the next call\n",
              "  // to uploadFilesContinue from Python.\n",
              "  outputElement.steps = steps;\n",
              "\n",
              "  return _uploadFilesContinue(outputId);\n",
              "}\n",
              "\n",
              "// This is roughly an async generator (not supported in the browser yet),\n",
              "// where there are multiple asynchronous steps and the Python side is going\n",
              "// to poll for completion of each step.\n",
              "// This uses a Promise to block the python side on completion of each step,\n",
              "// then passes the result of the previous step as the input to the next step.\n",
              "function _uploadFilesContinue(outputId) {\n",
              "  const outputElement = document.getElementById(outputId);\n",
              "  const steps = outputElement.steps;\n",
              "\n",
              "  const next = steps.next(outputElement.lastPromiseValue);\n",
              "  return Promise.resolve(next.value.promise).then((value) => {\n",
              "    // Cache the last promise value to make it available to the next\n",
              "    // step of the generator.\n",
              "    outputElement.lastPromiseValue = value;\n",
              "    return next.value.response;\n",
              "  });\n",
              "}\n",
              "\n",
              "/**\n",
              " * Generator function which is called between each async step of the upload\n",
              " * process.\n",
              " * @param {string} inputId Element ID of the input file picker element.\n",
              " * @param {string} outputId Element ID of the output display.\n",
              " * @return {!Iterable<!Object>} Iterable of next steps.\n",
              " */\n",
              "function* uploadFilesStep(inputId, outputId) {\n",
              "  const inputElement = document.getElementById(inputId);\n",
              "  inputElement.disabled = false;\n",
              "\n",
              "  const outputElement = document.getElementById(outputId);\n",
              "  outputElement.innerHTML = '';\n",
              "\n",
              "  const pickedPromise = new Promise((resolve) => {\n",
              "    inputElement.addEventListener('change', (e) => {\n",
              "      resolve(e.target.files);\n",
              "    });\n",
              "  });\n",
              "\n",
              "  const cancel = document.createElement('button');\n",
              "  inputElement.parentElement.appendChild(cancel);\n",
              "  cancel.textContent = 'Cancel upload';\n",
              "  const cancelPromise = new Promise((resolve) => {\n",
              "    cancel.onclick = () => {\n",
              "      resolve(null);\n",
              "    };\n",
              "  });\n",
              "\n",
              "  // Wait for the user to pick the files.\n",
              "  const files = yield {\n",
              "    promise: Promise.race([pickedPromise, cancelPromise]),\n",
              "    response: {\n",
              "      action: 'starting',\n",
              "    }\n",
              "  };\n",
              "\n",
              "  cancel.remove();\n",
              "\n",
              "  // Disable the input element since further picks are not allowed.\n",
              "  inputElement.disabled = true;\n",
              "\n",
              "  if (!files) {\n",
              "    return {\n",
              "      response: {\n",
              "        action: 'complete',\n",
              "      }\n",
              "    };\n",
              "  }\n",
              "\n",
              "  for (const file of files) {\n",
              "    const li = document.createElement('li');\n",
              "    li.append(span(file.name, {fontWeight: 'bold'}));\n",
              "    li.append(span(\n",
              "        `(${file.type || 'n/a'}) - ${file.size} bytes, ` +\n",
              "        `last modified: ${\n",
              "            file.lastModifiedDate ? file.lastModifiedDate.toLocaleDateString() :\n",
              "                                    'n/a'} - `));\n",
              "    const percent = span('0% done');\n",
              "    li.appendChild(percent);\n",
              "\n",
              "    outputElement.appendChild(li);\n",
              "\n",
              "    const fileDataPromise = new Promise((resolve) => {\n",
              "      const reader = new FileReader();\n",
              "      reader.onload = (e) => {\n",
              "        resolve(e.target.result);\n",
              "      };\n",
              "      reader.readAsArrayBuffer(file);\n",
              "    });\n",
              "    // Wait for the data to be ready.\n",
              "    let fileData = yield {\n",
              "      promise: fileDataPromise,\n",
              "      response: {\n",
              "        action: 'continue',\n",
              "      }\n",
              "    };\n",
              "\n",
              "    // Use a chunked sending to avoid message size limits. See b/62115660.\n",
              "    let position = 0;\n",
              "    do {\n",
              "      const length = Math.min(fileData.byteLength - position, MAX_PAYLOAD_SIZE);\n",
              "      const chunk = new Uint8Array(fileData, position, length);\n",
              "      position += length;\n",
              "\n",
              "      const base64 = btoa(String.fromCharCode.apply(null, chunk));\n",
              "      yield {\n",
              "        response: {\n",
              "          action: 'append',\n",
              "          file: file.name,\n",
              "          data: base64,\n",
              "        },\n",
              "      };\n",
              "\n",
              "      let percentDone = fileData.byteLength === 0 ?\n",
              "          100 :\n",
              "          Math.round((position / fileData.byteLength) * 100);\n",
              "      percent.textContent = `${percentDone}% done`;\n",
              "\n",
              "    } while (position < fileData.byteLength);\n",
              "  }\n",
              "\n",
              "  // All done.\n",
              "  yield {\n",
              "    response: {\n",
              "      action: 'complete',\n",
              "    }\n",
              "  };\n",
              "}\n",
              "\n",
              "scope.google = scope.google || {};\n",
              "scope.google.colab = scope.google.colab || {};\n",
              "scope.google.colab._files = {\n",
              "  _uploadFiles,\n",
              "  _uploadFilesContinue,\n",
              "};\n",
              "})(self);\n",
              "</script> "
            ]
          },
          "metadata": {}
        },
        {
          "output_type": "stream",
          "name": "stdout",
          "text": [
            "Saving retail_data.csv to retail_data.csv\n"
          ]
        }
      ]
    },
    {
      "cell_type": "code",
      "source": [
        "from pyspark.sql import SparkSession\n",
        "from pyspark.sql.functions import to_date\n",
        "df = spark.read.csv(\"retail_data.csv\", header=True, inferSchema=True)\n",
        "df = df.withColumn(\"TransactionDate\", to_date(\"TransactionDate\"))\n",
        "\n",
        "\n",
        "df.show()\n",
        "df.printSchema()"
      ],
      "metadata": {
        "colab": {
          "base_uri": "https://localhost:8080/"
        },
        "id": "GcHT6X-z4av5",
        "outputId": "fa6924ff-6487-4000-d8b8-278a385ee4d5"
      },
      "execution_count": 3,
      "outputs": [
        {
          "output_type": "stream",
          "name": "stdout",
          "text": [
            "+-------------+--------+---------+-------+-----------+--------+---------+----------+---------------+-----------+\n",
            "|TransactionID|Customer|     City|Product|   Category|Quantity|UnitPrice|TotalPrice|TransactionDate|PaymentMode|\n",
            "+-------------+--------+---------+-------+-----------+--------+---------+----------+---------------+-----------+\n",
            "|        T1001|     Ali|   Mumbai| Laptop|Electronics|       1|    70000|     70000|     2024-01-15|       Card|\n",
            "|        T1002|    Neha|Bangalore| Tablet|Electronics|       2|    30000|     60000|     2024-01-20|        UPI|\n",
            "|        T1003|    Ravi|Hyderabad|   Desk|  Furniture|       1|    15000|     15000|     2024-02-10|Net Banking|\n",
            "|        T1004|    Zoya|    Delhi|  Chair|  Furniture|       4|     5000|     20000|     2024-02-12|       Card|\n",
            "|        T1005|   Karan|   Mumbai|  Phone|Electronics|       1|    50000|     50000|     2024-02-15|       Card|\n",
            "|        T1006|   Farah|    Delhi|  Mouse|Electronics|       3|     1000|      3000|     2024-02-18|       Cash|\n",
            "+-------------+--------+---------+-------+-----------+--------+---------+----------+---------------+-----------+\n",
            "\n",
            "root\n",
            " |-- TransactionID: string (nullable = true)\n",
            " |-- Customer: string (nullable = true)\n",
            " |-- City: string (nullable = true)\n",
            " |-- Product: string (nullable = true)\n",
            " |-- Category: string (nullable = true)\n",
            " |-- Quantity: integer (nullable = true)\n",
            " |-- UnitPrice: integer (nullable = true)\n",
            " |-- TotalPrice: integer (nullable = true)\n",
            " |-- TransactionDate: date (nullable = true)\n",
            " |-- PaymentMode: string (nullable = true)\n",
            "\n"
          ]
        }
      ]
    },
    {
      "cell_type": "code",
      "source": [
        "\n",
        "# 2. Load without inferring schema\n",
        "df = df.withColumn(\"Quantity\", col(\"Quantity\").cast(\"int\")) \\\n",
        "       .withColumn(\"UnitPrice\", col(\"UnitPrice\").cast(\"int\")) \\\n",
        "       .withColumn(\"TotalPrice\", col(\"TotalPrice\").cast(\"int\"))\n"
      ],
      "metadata": {
        "id": "6NqiQeyj4ayP"
      },
      "execution_count": 4,
      "outputs": []
    },
    {
      "cell_type": "code",
      "source": [
        "# 3. TotalPrice > 40000\n",
        "df.filter(col(\"TotalPrice\") > 40000).show()\n",
        "\n",
        "# 4. Unique cities\n",
        "df.select(\"City\").distinct().show()\n",
        "\n",
        "# 5. Transactions from Delhi\n",
        "df.filter(col(\"City\") == \"Delhi\").show()\n",
        "df.where(col(\"City\") == \"Delhi\").show()\n"
      ],
      "metadata": {
        "colab": {
          "base_uri": "https://localhost:8080/"
        },
        "id": "Y1Eq06qu4a0j",
        "outputId": "c0517e58-6559-452e-d953-456ea6735f93"
      },
      "execution_count": 5,
      "outputs": [
        {
          "output_type": "stream",
          "name": "stdout",
          "text": [
            "+-------------+--------+---------+-------+-----------+--------+---------+----------+---------------+-----------+\n",
            "|TransactionID|Customer|     City|Product|   Category|Quantity|UnitPrice|TotalPrice|TransactionDate|PaymentMode|\n",
            "+-------------+--------+---------+-------+-----------+--------+---------+----------+---------------+-----------+\n",
            "|        T1001|     Ali|   Mumbai| Laptop|Electronics|       1|    70000|     70000|     2024-01-15|       Card|\n",
            "|        T1002|    Neha|Bangalore| Tablet|Electronics|       2|    30000|     60000|     2024-01-20|        UPI|\n",
            "|        T1005|   Karan|   Mumbai|  Phone|Electronics|       1|    50000|     50000|     2024-02-15|       Card|\n",
            "+-------------+--------+---------+-------+-----------+--------+---------+----------+---------------+-----------+\n",
            "\n",
            "+---------+\n",
            "|     City|\n",
            "+---------+\n",
            "|Bangalore|\n",
            "|   Mumbai|\n",
            "|    Delhi|\n",
            "|Hyderabad|\n",
            "+---------+\n",
            "\n",
            "+-------------+--------+-----+-------+-----------+--------+---------+----------+---------------+-----------+\n",
            "|TransactionID|Customer| City|Product|   Category|Quantity|UnitPrice|TotalPrice|TransactionDate|PaymentMode|\n",
            "+-------------+--------+-----+-------+-----------+--------+---------+----------+---------------+-----------+\n",
            "|        T1004|    Zoya|Delhi|  Chair|  Furniture|       4|     5000|     20000|     2024-02-12|       Card|\n",
            "|        T1006|   Farah|Delhi|  Mouse|Electronics|       3|     1000|      3000|     2024-02-18|       Cash|\n",
            "+-------------+--------+-----+-------+-----------+--------+---------+----------+---------------+-----------+\n",
            "\n",
            "+-------------+--------+-----+-------+-----------+--------+---------+----------+---------------+-----------+\n",
            "|TransactionID|Customer| City|Product|   Category|Quantity|UnitPrice|TotalPrice|TransactionDate|PaymentMode|\n",
            "+-------------+--------+-----+-------+-----------+--------+---------+----------+---------------+-----------+\n",
            "|        T1004|    Zoya|Delhi|  Chair|  Furniture|       4|     5000|     20000|     2024-02-12|       Card|\n",
            "|        T1006|   Farah|Delhi|  Mouse|Electronics|       3|     1000|      3000|     2024-02-18|       Cash|\n",
            "+-------------+--------+-----+-------+-----------+--------+---------+----------+---------------+-----------+\n",
            "\n"
          ]
        }
      ]
    },
    {
      "cell_type": "code",
      "source": [
        "# 6. Add DiscountedPrice\n",
        "df = df.withColumn(\"DiscountedPrice\", col(\"TotalPrice\") * 0.9)\n",
        "\n",
        "# 7. Rename TransactionDate to TxnDate\n",
        "df = df.withColumnRenamed(\"TransactionDate\", \"TxnDate\")\n",
        "\n",
        "# 8. Drop UnitPrice\n",
        "df = df.drop(\"UnitPrice\")\n"
      ],
      "metadata": {
        "id": "wk4JgZyx4a3E"
      },
      "execution_count": 6,
      "outputs": []
    },
    {
      "cell_type": "code",
      "source": [
        "# Reload the CSV fresh\n",
        "df = spark.read.csv(\"retail_data.csv\", header=True, inferSchema=True)\n",
        "\n",
        "df = df.withColumn(\"TransactionDate\", to_date(\"TransactionDate\"))\n",
        "df.show()\n",
        "df.printSchema()"
      ],
      "metadata": {
        "colab": {
          "base_uri": "https://localhost:8080/"
        },
        "id": "F8NvwXw24a5f",
        "outputId": "951b0a45-a629-48e6-db8a-a16eb5e288e9"
      },
      "execution_count": 7,
      "outputs": [
        {
          "output_type": "stream",
          "name": "stdout",
          "text": [
            "+-------------+--------+---------+-------+-----------+--------+---------+----------+---------------+-----------+\n",
            "|TransactionID|Customer|     City|Product|   Category|Quantity|UnitPrice|TotalPrice|TransactionDate|PaymentMode|\n",
            "+-------------+--------+---------+-------+-----------+--------+---------+----------+---------------+-----------+\n",
            "|        T1001|     Ali|   Mumbai| Laptop|Electronics|       1|    70000|     70000|     2024-01-15|       Card|\n",
            "|        T1002|    Neha|Bangalore| Tablet|Electronics|       2|    30000|     60000|     2024-01-20|        UPI|\n",
            "|        T1003|    Ravi|Hyderabad|   Desk|  Furniture|       1|    15000|     15000|     2024-02-10|Net Banking|\n",
            "|        T1004|    Zoya|    Delhi|  Chair|  Furniture|       4|     5000|     20000|     2024-02-12|       Card|\n",
            "|        T1005|   Karan|   Mumbai|  Phone|Electronics|       1|    50000|     50000|     2024-02-15|       Card|\n",
            "|        T1006|   Farah|    Delhi|  Mouse|Electronics|       3|     1000|      3000|     2024-02-18|       Cash|\n",
            "+-------------+--------+---------+-------+-----------+--------+---------+----------+---------------+-----------+\n",
            "\n",
            "root\n",
            " |-- TransactionID: string (nullable = true)\n",
            " |-- Customer: string (nullable = true)\n",
            " |-- City: string (nullable = true)\n",
            " |-- Product: string (nullable = true)\n",
            " |-- Category: string (nullable = true)\n",
            " |-- Quantity: integer (nullable = true)\n",
            " |-- UnitPrice: integer (nullable = true)\n",
            " |-- TotalPrice: integer (nullable = true)\n",
            " |-- TransactionDate: date (nullable = true)\n",
            " |-- PaymentMode: string (nullable = true)\n",
            "\n"
          ]
        }
      ]
    },
    {
      "cell_type": "code",
      "source": [
        "from pyspark.sql.functions import col\n",
        "\n",
        "df = df.withColumn(\"TotalPrice\", col(\"TotalPrice\").cast(\"int\")) \\\n",
        "       .withColumn(\"UnitPrice\", col(\"UnitPrice\").cast(\"int\")) \\\n",
        "       .withColumn(\"Quantity\", col(\"Quantity\").cast(\"int\"))\n"
      ],
      "metadata": {
        "id": "5tCKSju14a71"
      },
      "execution_count": 8,
      "outputs": []
    },
    {
      "cell_type": "code",
      "source": [
        "from pyspark.sql.functions import sum, avg\n",
        "\n",
        "# 9. Total sales by city\n",
        "df.groupBy(\"City\").agg(sum(\"TotalPrice\").alias(\"TotalSales\")).show()\n",
        "\n",
        "# 10. Avg unit price by category\n",
        "df.groupBy(\"Category\").agg(avg(\"UnitPrice\").alias(\"AvgUnitPrice\")).show()\n",
        "\n",
        "# 11. Count of transactions by PaymentMode\n",
        "df.groupBy(\"PaymentMode\").count().show()\n"
      ],
      "metadata": {
        "colab": {
          "base_uri": "https://localhost:8080/"
        },
        "id": "bO69MDu84a98",
        "outputId": "ea0c0f4e-b99d-4da7-da8a-e3f6c2482100"
      },
      "execution_count": 9,
      "outputs": [
        {
          "output_type": "stream",
          "name": "stdout",
          "text": [
            "+---------+----------+\n",
            "|     City|TotalSales|\n",
            "+---------+----------+\n",
            "|Bangalore|     60000|\n",
            "|   Mumbai|    120000|\n",
            "|    Delhi|     23000|\n",
            "|Hyderabad|     15000|\n",
            "+---------+----------+\n",
            "\n",
            "+-----------+------------+\n",
            "|   Category|AvgUnitPrice|\n",
            "+-----------+------------+\n",
            "|Electronics|     37750.0|\n",
            "|  Furniture|     10000.0|\n",
            "+-----------+------------+\n",
            "\n",
            "+-----------+-----+\n",
            "|PaymentMode|count|\n",
            "+-----------+-----+\n",
            "|Net Banking|    1|\n",
            "|       Card|    3|\n",
            "|       Cash|    1|\n",
            "|        UPI|    1|\n",
            "+-----------+-----+\n",
            "\n"
          ]
        }
      ]
    },
    {
      "cell_type": "code",
      "source": [
        "from pyspark.sql.window import Window\n",
        "from pyspark.sql.functions import rank\n",
        "\n",
        "windowSpec = Window.partitionBy(\"City\").orderBy(col(\"TotalPrice\").desc())\n",
        "df = df.withColumn(\"RankInCity\", rank().over(windowSpec))\n",
        "df.select(\"TransactionID\", \"City\", \"TotalPrice\", \"RankInCity\").show()\n"
      ],
      "metadata": {
        "colab": {
          "base_uri": "https://localhost:8080/"
        },
        "id": "JCWsQAvR4bAe",
        "outputId": "a0a96166-dcdb-4fa7-f4ca-bc5efe3cc017"
      },
      "execution_count": 10,
      "outputs": [
        {
          "output_type": "stream",
          "name": "stdout",
          "text": [
            "+-------------+---------+----------+----------+\n",
            "|TransactionID|     City|TotalPrice|RankInCity|\n",
            "+-------------+---------+----------+----------+\n",
            "|        T1002|Bangalore|     60000|         1|\n",
            "|        T1004|    Delhi|     20000|         1|\n",
            "|        T1006|    Delhi|      3000|         2|\n",
            "|        T1003|Hyderabad|     15000|         1|\n",
            "|        T1001|   Mumbai|     70000|         1|\n",
            "|        T1005|   Mumbai|     50000|         2|\n",
            "+-------------+---------+----------+----------+\n",
            "\n"
          ]
        }
      ]
    },
    {
      "cell_type": "code",
      "source": [
        "from pyspark.sql.functions import lag\n",
        "\n",
        "df = df.withColumn(\"PrevTransaction\", lag(\"TotalPrice\").over(windowSpec))\n",
        "df.select(\"TransactionID\", \"City\", \"TotalPrice\", \"PrevTransaction\").show()\n"
      ],
      "metadata": {
        "colab": {
          "base_uri": "https://localhost:8080/"
        },
        "id": "YPmtUJw44bC6",
        "outputId": "51d05344-8b52-4fb0-93be-40ecc1d7d41c"
      },
      "execution_count": 11,
      "outputs": [
        {
          "output_type": "stream",
          "name": "stdout",
          "text": [
            "+-------------+---------+----------+---------------+\n",
            "|TransactionID|     City|TotalPrice|PrevTransaction|\n",
            "+-------------+---------+----------+---------------+\n",
            "|        T1002|Bangalore|     60000|           null|\n",
            "|        T1004|    Delhi|     20000|           null|\n",
            "|        T1006|    Delhi|      3000|          20000|\n",
            "|        T1003|Hyderabad|     15000|           null|\n",
            "|        T1001|   Mumbai|     70000|           null|\n",
            "|        T1005|   Mumbai|     50000|          70000|\n",
            "+-------------+---------+----------+---------------+\n",
            "\n"
          ]
        }
      ]
    },
    {
      "cell_type": "code",
      "source": [
        "from pyspark.sql.functions import when\n",
        "\n",
        "df_dirty = df.withColumn(\"Quantity\", when(col(\"TransactionID\") == \"T1002\", None).otherwise(col(\"Quantity\"))) \\\n",
        "             .withColumn(\"PaymentMode\", when(col(\"TransactionID\") == \"T1003\", None).otherwise(col(\"PaymentMode\")))\n",
        "\n",
        "df_dirty.show()\n"
      ],
      "metadata": {
        "colab": {
          "base_uri": "https://localhost:8080/"
        },
        "id": "gpv0OeWA4bFc",
        "outputId": "4fa324ca-2efe-447a-b0cf-b1bbcec9e40f"
      },
      "execution_count": 12,
      "outputs": [
        {
          "output_type": "stream",
          "name": "stdout",
          "text": [
            "+-------------+--------+---------+-------+-----------+--------+---------+----------+---------------+-----------+----------+---------------+\n",
            "|TransactionID|Customer|     City|Product|   Category|Quantity|UnitPrice|TotalPrice|TransactionDate|PaymentMode|RankInCity|PrevTransaction|\n",
            "+-------------+--------+---------+-------+-----------+--------+---------+----------+---------------+-----------+----------+---------------+\n",
            "|        T1002|    Neha|Bangalore| Tablet|Electronics|    null|    30000|     60000|     2024-01-20|        UPI|         1|           null|\n",
            "|        T1004|    Zoya|    Delhi|  Chair|  Furniture|       4|     5000|     20000|     2024-02-12|       Card|         1|           null|\n",
            "|        T1006|   Farah|    Delhi|  Mouse|Electronics|       3|     1000|      3000|     2024-02-18|       Cash|         2|          20000|\n",
            "|        T1003|    Ravi|Hyderabad|   Desk|  Furniture|       1|    15000|     15000|     2024-02-10|       null|         1|           null|\n",
            "|        T1001|     Ali|   Mumbai| Laptop|Electronics|       1|    70000|     70000|     2024-01-15|       Card|         1|           null|\n",
            "|        T1005|   Karan|   Mumbai|  Phone|Electronics|       1|    50000|     50000|     2024-02-15|       Card|         2|          70000|\n",
            "+-------------+--------+---------+-------+-----------+--------+---------+----------+---------------+-----------+----------+---------------+\n",
            "\n"
          ]
        }
      ]
    },
    {
      "cell_type": "code",
      "source": [
        "df_cleaned = df_dirty.dropna(subset=[\"Quantity\"])\n",
        "df_cleaned.show()\n"
      ],
      "metadata": {
        "colab": {
          "base_uri": "https://localhost:8080/"
        },
        "id": "stANNbi84bH2",
        "outputId": "50cc7ba3-cd58-4057-aa14-de326efd92c7"
      },
      "execution_count": 13,
      "outputs": [
        {
          "output_type": "stream",
          "name": "stdout",
          "text": [
            "+-------------+--------+---------+-------+-----------+--------+---------+----------+---------------+-----------+----------+---------------+\n",
            "|TransactionID|Customer|     City|Product|   Category|Quantity|UnitPrice|TotalPrice|TransactionDate|PaymentMode|RankInCity|PrevTransaction|\n",
            "+-------------+--------+---------+-------+-----------+--------+---------+----------+---------------+-----------+----------+---------------+\n",
            "|        T1004|    Zoya|    Delhi|  Chair|  Furniture|       4|     5000|     20000|     2024-02-12|       Card|         1|           null|\n",
            "|        T1006|   Farah|    Delhi|  Mouse|Electronics|       3|     1000|      3000|     2024-02-18|       Cash|         2|          20000|\n",
            "|        T1003|    Ravi|Hyderabad|   Desk|  Furniture|       1|    15000|     15000|     2024-02-10|       null|         1|           null|\n",
            "|        T1001|     Ali|   Mumbai| Laptop|Electronics|       1|    70000|     70000|     2024-01-15|       Card|         1|           null|\n",
            "|        T1005|   Karan|   Mumbai|  Phone|Electronics|       1|    50000|     50000|     2024-02-15|       Card|         2|          70000|\n",
            "+-------------+--------+---------+-------+-----------+--------+---------+----------+---------------+-----------+----------+---------------+\n",
            "\n"
          ]
        }
      ]
    },
    {
      "cell_type": "code",
      "source": [
        "df_cleaned = df_cleaned.fillna({\"PaymentMode\": \"Unknown\"})\n",
        "df_cleaned.show()\n"
      ],
      "metadata": {
        "colab": {
          "base_uri": "https://localhost:8080/"
        },
        "id": "efuPy3II4bKG",
        "outputId": "72ffdd48-1d9a-4648-c6b0-7bce33ecb7a3"
      },
      "execution_count": 14,
      "outputs": [
        {
          "output_type": "stream",
          "name": "stdout",
          "text": [
            "+-------------+--------+---------+-------+-----------+--------+---------+----------+---------------+-----------+----------+---------------+\n",
            "|TransactionID|Customer|     City|Product|   Category|Quantity|UnitPrice|TotalPrice|TransactionDate|PaymentMode|RankInCity|PrevTransaction|\n",
            "+-------------+--------+---------+-------+-----------+--------+---------+----------+---------------+-----------+----------+---------------+\n",
            "|        T1004|    Zoya|    Delhi|  Chair|  Furniture|       4|     5000|     20000|     2024-02-12|       Card|         1|           null|\n",
            "|        T1006|   Farah|    Delhi|  Mouse|Electronics|       3|     1000|      3000|     2024-02-18|       Cash|         2|          20000|\n",
            "|        T1003|    Ravi|Hyderabad|   Desk|  Furniture|       1|    15000|     15000|     2024-02-10|    Unknown|         1|           null|\n",
            "|        T1001|     Ali|   Mumbai| Laptop|Electronics|       1|    70000|     70000|     2024-01-15|       Card|         1|           null|\n",
            "|        T1005|   Karan|   Mumbai|  Phone|Electronics|       1|    50000|     50000|     2024-02-15|       Card|         2|          70000|\n",
            "+-------------+--------+---------+-------+-----------+--------+---------+----------+---------------+-----------+----------+---------------+\n",
            "\n"
          ]
        }
      ]
    },
    {
      "cell_type": "code",
      "source": [
        "from pyspark.sql.functions import year, month, dayofmonth\n",
        "\n",
        "df_cleaned = df_cleaned.withColumn(\"Year\", year(\"TransactionDate\")) \\\n",
        "                       .withColumn(\"Month\", month(\"TransactionDate\")) \\\n",
        "                       .withColumn(\"Day\", dayofmonth(\"TransactionDate\"))\n",
        "df_cleaned.select(\"TransactionID\", \"TransactionDate\", \"Year\", \"Month\", \"Day\").show()\n"
      ],
      "metadata": {
        "colab": {
          "base_uri": "https://localhost:8080/"
        },
        "id": "ZyPZX14g4bMh",
        "outputId": "fd5f05dd-8c51-4b05-c480-7c93f039bb7b"
      },
      "execution_count": 15,
      "outputs": [
        {
          "output_type": "stream",
          "name": "stdout",
          "text": [
            "+-------------+---------------+----+-----+---+\n",
            "|TransactionID|TransactionDate|Year|Month|Day|\n",
            "+-------------+---------------+----+-----+---+\n",
            "|        T1001|     2024-01-15|2024|    1| 15|\n",
            "|        T1003|     2024-02-10|2024|    2| 10|\n",
            "|        T1004|     2024-02-12|2024|    2| 12|\n",
            "|        T1005|     2024-02-15|2024|    2| 15|\n",
            "|        T1006|     2024-02-18|2024|    2| 18|\n",
            "+-------------+---------------+----+-----+---+\n",
            "\n"
          ]
        }
      ]
    },
    {
      "cell_type": "code",
      "source": [
        "df_cleaned.filter(month(\"TransactionDate\") == 2).show()\n"
      ],
      "metadata": {
        "colab": {
          "base_uri": "https://localhost:8080/"
        },
        "id": "_mDKCOy84bRO",
        "outputId": "6f4a88a5-56f6-49ee-82a1-d2765b94ada5"
      },
      "execution_count": 17,
      "outputs": [
        {
          "output_type": "stream",
          "name": "stdout",
          "text": [
            "+-------------+--------+---------+-------+-----------+--------+---------+----------+---------------+-----------+----------+---------------+----+-----+---+\n",
            "|TransactionID|Customer|     City|Product|   Category|Quantity|UnitPrice|TotalPrice|TransactionDate|PaymentMode|RankInCity|PrevTransaction|Year|Month|Day|\n",
            "+-------------+--------+---------+-------+-----------+--------+---------+----------+---------------+-----------+----------+---------------+----+-----+---+\n",
            "|        T1004|    Zoya|    Delhi|  Chair|  Furniture|       4|     5000|     20000|     2024-02-12|       Card|         1|           null|2024|    2| 12|\n",
            "|        T1006|   Farah|    Delhi|  Mouse|Electronics|       3|     1000|      3000|     2024-02-18|       Cash|         2|          20000|2024|    2| 18|\n",
            "|        T1003|    Ravi|Hyderabad|   Desk|  Furniture|       1|    15000|     15000|     2024-02-10|    Unknown|         1|           null|2024|    2| 10|\n",
            "|        T1005|   Karan|   Mumbai|  Phone|Electronics|       1|    50000|     50000|     2024-02-15|       Card|         2|          70000|2024|    2| 15|\n",
            "+-------------+--------+---------+-------+-----------+--------+---------+----------+---------------+-----------+----------+---------------+----+-----+---+\n",
            "\n"
          ]
        }
      ]
    },
    {
      "cell_type": "code",
      "source": [
        "df_duped = df_cleaned.union(df_cleaned)\n",
        "print(\"Count before removing duplicates:\", df_duped.count())\n",
        "print(\"Count after removing duplicates:\", df_duped.distinct().count())\n"
      ],
      "metadata": {
        "colab": {
          "base_uri": "https://localhost:8080/"
        },
        "id": "6EQasHpX5WRM",
        "outputId": "531719af-5b74-4f3b-a616-07be59ed957c"
      },
      "execution_count": 18,
      "outputs": [
        {
          "output_type": "stream",
          "name": "stdout",
          "text": [
            "Count before removing duplicates: 10\n",
            "Count after removing duplicates: 5\n"
          ]
        }
      ]
    },
    {
      "cell_type": "code",
      "source": [],
      "metadata": {
        "id": "vowOna_y5Wck"
      },
      "execution_count": null,
      "outputs": []
    }
  ]
}