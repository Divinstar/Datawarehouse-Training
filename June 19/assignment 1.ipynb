{
  "nbformat": 4,
  "nbformat_minor": 0,
  "metadata": {
    "colab": {
      "provenance": []
    },
    "kernelspec": {
      "name": "python3",
      "display_name": "Python 3"
    },
    "language_info": {
      "name": "python"
    }
  },
  "cells": [
    {
      "cell_type": "code",
      "execution_count": 1,
      "metadata": {
        "id": "OA83De4czWUl"
      },
      "outputs": [],
      "source": [
        "\n",
        "!apt-get install openjdk-8-jdk-headless -qq > /dev/null\n",
        "!wget -q https://archive.apache.org/dist/spark/spark-3.3.0/spark-3.3.0-bin-hadoop3.tgz\n",
        "!tar xf spark-3.3.0-bin-hadoop3.tgz\n",
        "!pip install -q findspark\n",
        "\n",
        "import os\n",
        "os.environ[\"JAVA_HOME\"] = \"/usr/lib/jvm/java-8-openjdk-amd64\"\n",
        "os.environ[\"SPARK_HOME\"] = \"/content/spark-3.3.0-bin-hadoop3\"\n",
        "\n",
        "import findspark\n",
        "findspark.init()\n",
        "\n",
        "from pyspark.sql import SparkSession\n",
        "from pyspark.sql.types import StructType, StructField, StringType, TimestampType, IntegerType\n",
        "from pyspark.sql.functions import *\n",
        "\n",
        "spark = SparkSession.builder.appName(\"TrafficMonitoring\").getOrCreate()\n"
      ]
    },
    {
      "cell_type": "code",
      "source": [
        "from google.colab import files\n",
        "uploaded = files.upload()  # Upload traffic_logs.csv and vehicle_registry.csv\n",
        "\n",
        "from pyspark.sql.types import *\n",
        "from pyspark.sql.functions import *\n",
        "\n",
        "# Schema for traffic_logs\n",
        "schema_logs = StructType([\n",
        "    StructField(\"LogID\", StringType(), True),\n",
        "    StructField(\"VehicleID\", StringType(), True),\n",
        "    StructField(\"EntryPoint\", StringType(), True),\n",
        "    StructField(\"ExitPoint\", StringType(), True),\n",
        "    StructField(\"EntryTime\", TimestampType(), True),\n",
        "    StructField(\"ExitTime\", TimestampType(), True),\n",
        "    StructField(\"VehicleType\", StringType(), True),\n",
        "    StructField(\"SpeedKMH\", IntegerType(), True),\n",
        "    StructField(\"TollPaid\", IntegerType(), True),\n",
        "])\n",
        "\n",
        "# Schema for vehicle_registry\n",
        "schema_registry = StructType([\n",
        "    StructField(\"VehicleID\", StringType(), True),\n",
        "    StructField(\"OwnerName\", StringType(), True),\n",
        "    StructField(\"Model\", StringType(), True),\n",
        "    StructField(\"RegisteredCity\", StringType(), True),\n",
        "])\n",
        "\n",
        "df = spark.read.option(\"header\", True).schema(schema_logs).csv(\"traffic_logs.csv\")\n",
        "registry = spark.read.option(\"header\", True).schema(schema_registry).csv(\"vehicle_registry.csv\")\n"
      ],
      "metadata": {
        "colab": {
          "base_uri": "https://localhost:8080/",
          "height": 109
        },
        "id": "cbgoAful0Ofp",
        "outputId": "5504a10a-0dc2-4dbc-e540-94dc6b420a68"
      },
      "execution_count": 3,
      "outputs": [
        {
          "output_type": "display_data",
          "data": {
            "text/plain": [
              "<IPython.core.display.HTML object>"
            ],
            "text/html": [
              "\n",
              "     <input type=\"file\" id=\"files-9cfc6c5a-80d1-48aa-be5c-3ac56c2c40be\" name=\"files[]\" multiple disabled\n",
              "        style=\"border:none\" />\n",
              "     <output id=\"result-9cfc6c5a-80d1-48aa-be5c-3ac56c2c40be\">\n",
              "      Upload widget is only available when the cell has been executed in the\n",
              "      current browser session. Please rerun this cell to enable.\n",
              "      </output>\n",
              "      <script>// Copyright 2017 Google LLC\n",
              "//\n",
              "// Licensed under the Apache License, Version 2.0 (the \"License\");\n",
              "// you may not use this file except in compliance with the License.\n",
              "// You may obtain a copy of the License at\n",
              "//\n",
              "//      http://www.apache.org/licenses/LICENSE-2.0\n",
              "//\n",
              "// Unless required by applicable law or agreed to in writing, software\n",
              "// distributed under the License is distributed on an \"AS IS\" BASIS,\n",
              "// WITHOUT WARRANTIES OR CONDITIONS OF ANY KIND, either express or implied.\n",
              "// See the License for the specific language governing permissions and\n",
              "// limitations under the License.\n",
              "\n",
              "/**\n",
              " * @fileoverview Helpers for google.colab Python module.\n",
              " */\n",
              "(function(scope) {\n",
              "function span(text, styleAttributes = {}) {\n",
              "  const element = document.createElement('span');\n",
              "  element.textContent = text;\n",
              "  for (const key of Object.keys(styleAttributes)) {\n",
              "    element.style[key] = styleAttributes[key];\n",
              "  }\n",
              "  return element;\n",
              "}\n",
              "\n",
              "// Max number of bytes which will be uploaded at a time.\n",
              "const MAX_PAYLOAD_SIZE = 100 * 1024;\n",
              "\n",
              "function _uploadFiles(inputId, outputId) {\n",
              "  const steps = uploadFilesStep(inputId, outputId);\n",
              "  const outputElement = document.getElementById(outputId);\n",
              "  // Cache steps on the outputElement to make it available for the next call\n",
              "  // to uploadFilesContinue from Python.\n",
              "  outputElement.steps = steps;\n",
              "\n",
              "  return _uploadFilesContinue(outputId);\n",
              "}\n",
              "\n",
              "// This is roughly an async generator (not supported in the browser yet),\n",
              "// where there are multiple asynchronous steps and the Python side is going\n",
              "// to poll for completion of each step.\n",
              "// This uses a Promise to block the python side on completion of each step,\n",
              "// then passes the result of the previous step as the input to the next step.\n",
              "function _uploadFilesContinue(outputId) {\n",
              "  const outputElement = document.getElementById(outputId);\n",
              "  const steps = outputElement.steps;\n",
              "\n",
              "  const next = steps.next(outputElement.lastPromiseValue);\n",
              "  return Promise.resolve(next.value.promise).then((value) => {\n",
              "    // Cache the last promise value to make it available to the next\n",
              "    // step of the generator.\n",
              "    outputElement.lastPromiseValue = value;\n",
              "    return next.value.response;\n",
              "  });\n",
              "}\n",
              "\n",
              "/**\n",
              " * Generator function which is called between each async step of the upload\n",
              " * process.\n",
              " * @param {string} inputId Element ID of the input file picker element.\n",
              " * @param {string} outputId Element ID of the output display.\n",
              " * @return {!Iterable<!Object>} Iterable of next steps.\n",
              " */\n",
              "function* uploadFilesStep(inputId, outputId) {\n",
              "  const inputElement = document.getElementById(inputId);\n",
              "  inputElement.disabled = false;\n",
              "\n",
              "  const outputElement = document.getElementById(outputId);\n",
              "  outputElement.innerHTML = '';\n",
              "\n",
              "  const pickedPromise = new Promise((resolve) => {\n",
              "    inputElement.addEventListener('change', (e) => {\n",
              "      resolve(e.target.files);\n",
              "    });\n",
              "  });\n",
              "\n",
              "  const cancel = document.createElement('button');\n",
              "  inputElement.parentElement.appendChild(cancel);\n",
              "  cancel.textContent = 'Cancel upload';\n",
              "  const cancelPromise = new Promise((resolve) => {\n",
              "    cancel.onclick = () => {\n",
              "      resolve(null);\n",
              "    };\n",
              "  });\n",
              "\n",
              "  // Wait for the user to pick the files.\n",
              "  const files = yield {\n",
              "    promise: Promise.race([pickedPromise, cancelPromise]),\n",
              "    response: {\n",
              "      action: 'starting',\n",
              "    }\n",
              "  };\n",
              "\n",
              "  cancel.remove();\n",
              "\n",
              "  // Disable the input element since further picks are not allowed.\n",
              "  inputElement.disabled = true;\n",
              "\n",
              "  if (!files) {\n",
              "    return {\n",
              "      response: {\n",
              "        action: 'complete',\n",
              "      }\n",
              "    };\n",
              "  }\n",
              "\n",
              "  for (const file of files) {\n",
              "    const li = document.createElement('li');\n",
              "    li.append(span(file.name, {fontWeight: 'bold'}));\n",
              "    li.append(span(\n",
              "        `(${file.type || 'n/a'}) - ${file.size} bytes, ` +\n",
              "        `last modified: ${\n",
              "            file.lastModifiedDate ? file.lastModifiedDate.toLocaleDateString() :\n",
              "                                    'n/a'} - `));\n",
              "    const percent = span('0% done');\n",
              "    li.appendChild(percent);\n",
              "\n",
              "    outputElement.appendChild(li);\n",
              "\n",
              "    const fileDataPromise = new Promise((resolve) => {\n",
              "      const reader = new FileReader();\n",
              "      reader.onload = (e) => {\n",
              "        resolve(e.target.result);\n",
              "      };\n",
              "      reader.readAsArrayBuffer(file);\n",
              "    });\n",
              "    // Wait for the data to be ready.\n",
              "    let fileData = yield {\n",
              "      promise: fileDataPromise,\n",
              "      response: {\n",
              "        action: 'continue',\n",
              "      }\n",
              "    };\n",
              "\n",
              "    // Use a chunked sending to avoid message size limits. See b/62115660.\n",
              "    let position = 0;\n",
              "    do {\n",
              "      const length = Math.min(fileData.byteLength - position, MAX_PAYLOAD_SIZE);\n",
              "      const chunk = new Uint8Array(fileData, position, length);\n",
              "      position += length;\n",
              "\n",
              "      const base64 = btoa(String.fromCharCode.apply(null, chunk));\n",
              "      yield {\n",
              "        response: {\n",
              "          action: 'append',\n",
              "          file: file.name,\n",
              "          data: base64,\n",
              "        },\n",
              "      };\n",
              "\n",
              "      let percentDone = fileData.byteLength === 0 ?\n",
              "          100 :\n",
              "          Math.round((position / fileData.byteLength) * 100);\n",
              "      percent.textContent = `${percentDone}% done`;\n",
              "\n",
              "    } while (position < fileData.byteLength);\n",
              "  }\n",
              "\n",
              "  // All done.\n",
              "  yield {\n",
              "    response: {\n",
              "      action: 'complete',\n",
              "    }\n",
              "  };\n",
              "}\n",
              "\n",
              "scope.google = scope.google || {};\n",
              "scope.google.colab = scope.google.colab || {};\n",
              "scope.google.colab._files = {\n",
              "  _uploadFiles,\n",
              "  _uploadFilesContinue,\n",
              "};\n",
              "})(self);\n",
              "</script> "
            ]
          },
          "metadata": {}
        },
        {
          "output_type": "stream",
          "name": "stdout",
          "text": [
            "Saving traffic_logs.csv to traffic_logs (1).csv\n",
            "Saving vehicle_registry.csv to vehicle_registry (1).csv\n"
          ]
        }
      ]
    },
    {
      "cell_type": "code",
      "source": [
        "df_manual = spark.read.option(\"header\", True).schema(schema).csv(\"traffic_logs.csv\")\n",
        "df_manual.printSchema()\n",
        "df_manual.show()"
      ],
      "metadata": {
        "colab": {
          "base_uri": "https://localhost:8080/"
        },
        "id": "_ainJ4zV0X2q",
        "outputId": "bf608644-3743-442f-cb4c-d5d7c9df9ee8"
      },
      "execution_count": 4,
      "outputs": [
        {
          "output_type": "stream",
          "name": "stdout",
          "text": [
            "root\n",
            " |-- LogID: string (nullable = true)\n",
            " |-- VehicleID: string (nullable = true)\n",
            " |-- EntryPoint: string (nullable = true)\n",
            " |-- ExitPoint: string (nullable = true)\n",
            " |-- EntryTime: timestamp (nullable = true)\n",
            " |-- ExitTime: timestamp (nullable = true)\n",
            " |-- VehicleType: string (nullable = true)\n",
            " |-- SpeedKMH: integer (nullable = true)\n",
            " |-- TollPaid: integer (nullable = true)\n",
            "\n",
            "+-----+---------+----------+---------+-------------------+-------------------+-----------+--------+--------+\n",
            "|LogID|VehicleID|EntryPoint|ExitPoint|          EntryTime|           ExitTime|VehicleType|SpeedKMH|TollPaid|\n",
            "+-----+---------+----------+---------+-------------------+-------------------+-----------+--------+--------+\n",
            "| L001|     V001|     GateA|    GateC|2024-05-01 08:01:00|2024-05-01 08:20:00|        Car|      60|      50|\n",
            "| L002|     V002|     GateB|    GateC|2024-05-01 08:10:00|2024-05-01 08:45:00|      Truck|      45|     100|\n",
            "| L003|     V003|     GateA|    GateD|2024-05-01 09:00:00|2024-05-01 09:18:00|       Bike|      55|      30|\n",
            "| L004|     V004|     GateC|    GateD|2024-05-01 09:15:00|2024-05-01 09:35:00|        Car|      80|      50|\n",
            "| L005|     V005|     GateB|    GateA|2024-05-01 10:05:00|2024-05-01 10:40:00|        Bus|      40|      70|\n",
            "+-----+---------+----------+---------+-------------------+-------------------+-----------+--------+--------+\n",
            "\n"
          ]
        }
      ]
    },
    {
      "cell_type": "code",
      "source": [
        "df = df.withColumn(\"TripDurationMinutes\",\n",
        "                   (unix_timestamp(\"ExitTime\") - unix_timestamp(\"EntryTime\")) / 60)\n",
        "\n",
        "df = df.withColumn(\"IsOverspeed\", col(\"SpeedKMH\") > 60)\n"
      ],
      "metadata": {
        "id": "xzOnyL7y0b7m"
      },
      "execution_count": 5,
      "outputs": []
    },
    {
      "cell_type": "code",
      "source": [
        "\n",
        "df.groupBy(\"VehicleType\").agg(avg(\"SpeedKMH\").alias(\"AvgSpeed\")).show()\n",
        "\n",
        "df.groupBy(\"EntryPoint\").agg(sum(\"TollPaid\").alias(\"TotalToll\")).show()\n",
        "\n",
        "df.groupBy(\"ExitPoint\").count().orderBy(desc(\"count\")).show(1)\n"
      ],
      "metadata": {
        "colab": {
          "base_uri": "https://localhost:8080/"
        },
        "id": "7-5lywBG0fGM",
        "outputId": "4dc73bfa-4660-4331-fd16-b6e01a98ed2d"
      },
      "execution_count": 6,
      "outputs": [
        {
          "output_type": "stream",
          "name": "stdout",
          "text": [
            "+-----------+--------+\n",
            "|VehicleType|AvgSpeed|\n",
            "+-----------+--------+\n",
            "|       Bike|    55.0|\n",
            "|        Car|    70.0|\n",
            "|      Truck|    45.0|\n",
            "|        Bus|    40.0|\n",
            "+-----------+--------+\n",
            "\n",
            "+----------+---------+\n",
            "|EntryPoint|TotalToll|\n",
            "+----------+---------+\n",
            "|     GateA|       80|\n",
            "|     GateB|      170|\n",
            "|     GateC|       50|\n",
            "+----------+---------+\n",
            "\n",
            "+---------+-----+\n",
            "|ExitPoint|count|\n",
            "+---------+-----+\n",
            "|    GateD|    2|\n",
            "+---------+-----+\n",
            "only showing top 1 row\n",
            "\n"
          ]
        }
      ]
    },
    {
      "cell_type": "code",
      "source": [
        "from pyspark.sql.window import Window\n",
        "\n",
        "window_spec = Window.partitionBy(\"VehicleType\").orderBy(desc(\"SpeedKMH\"))\n",
        "df.withColumn(\"SpeedRank\", rank().over(window_spec)).show()\n",
        "\n",
        "vehicle_window = Window.partitionBy(\"VehicleID\").orderBy(\"EntryTime\")\n",
        "df.withColumn(\"LastExitTime\", lag(\"ExitTime\").over(vehicle_window)).show()\n"
      ],
      "metadata": {
        "colab": {
          "base_uri": "https://localhost:8080/"
        },
        "id": "XWUJ9K3403gW",
        "outputId": "e9e3c97d-bc3c-48fc-f23a-c50fbb90c5cf"
      },
      "execution_count": 7,
      "outputs": [
        {
          "output_type": "stream",
          "name": "stdout",
          "text": [
            "+-----+---------+----------+---------+-------------------+-------------------+-----------+--------+--------+-------------------+-----------+---------+\n",
            "|LogID|VehicleID|EntryPoint|ExitPoint|          EntryTime|           ExitTime|VehicleType|SpeedKMH|TollPaid|TripDurationMinutes|IsOverspeed|SpeedRank|\n",
            "+-----+---------+----------+---------+-------------------+-------------------+-----------+--------+--------+-------------------+-----------+---------+\n",
            "| L003|     V003|     GateA|    GateD|2024-05-01 09:00:00|2024-05-01 09:18:00|       Bike|      55|      30|               18.0|      false|        1|\n",
            "| L005|     V005|     GateB|    GateA|2024-05-01 10:05:00|2024-05-01 10:40:00|        Bus|      40|      70|               35.0|      false|        1|\n",
            "| L004|     V004|     GateC|    GateD|2024-05-01 09:15:00|2024-05-01 09:35:00|        Car|      80|      50|               20.0|       true|        1|\n",
            "| L001|     V001|     GateA|    GateC|2024-05-01 08:01:00|2024-05-01 08:20:00|        Car|      60|      50|               19.0|      false|        2|\n",
            "| L002|     V002|     GateB|    GateC|2024-05-01 08:10:00|2024-05-01 08:45:00|      Truck|      45|     100|               35.0|      false|        1|\n",
            "+-----+---------+----------+---------+-------------------+-------------------+-----------+--------+--------+-------------------+-----------+---------+\n",
            "\n",
            "+-----+---------+----------+---------+-------------------+-------------------+-----------+--------+--------+-------------------+-----------+------------+\n",
            "|LogID|VehicleID|EntryPoint|ExitPoint|          EntryTime|           ExitTime|VehicleType|SpeedKMH|TollPaid|TripDurationMinutes|IsOverspeed|LastExitTime|\n",
            "+-----+---------+----------+---------+-------------------+-------------------+-----------+--------+--------+-------------------+-----------+------------+\n",
            "| L001|     V001|     GateA|    GateC|2024-05-01 08:01:00|2024-05-01 08:20:00|        Car|      60|      50|               19.0|      false|        null|\n",
            "| L002|     V002|     GateB|    GateC|2024-05-01 08:10:00|2024-05-01 08:45:00|      Truck|      45|     100|               35.0|      false|        null|\n",
            "| L003|     V003|     GateA|    GateD|2024-05-01 09:00:00|2024-05-01 09:18:00|       Bike|      55|      30|               18.0|      false|        null|\n",
            "| L004|     V004|     GateC|    GateD|2024-05-01 09:15:00|2024-05-01 09:35:00|        Car|      80|      50|               20.0|       true|        null|\n",
            "| L005|     V005|     GateB|    GateA|2024-05-01 10:05:00|2024-05-01 10:40:00|        Bus|      40|      70|               35.0|      false|        null|\n",
            "+-----+---------+----------+---------+-------------------+-------------------+-----------+--------+--------+-------------------+-----------+------------+\n",
            "\n"
          ]
        }
      ]
    },
    {
      "cell_type": "code",
      "source": [
        "df = df.withColumn(\"PreviousExit\", lag(\"ExitTime\").over(vehicle_window))\n",
        "df = df.withColumn(\"IdleMinutes\",\n",
        "                   (unix_timestamp(\"EntryTime\") - unix_timestamp(\"PreviousExit\")) / 60)\n",
        "df.select(\"VehicleID\", \"EntryTime\", \"PreviousExit\", \"IdleMinutes\").show()\n"
      ],
      "metadata": {
        "colab": {
          "base_uri": "https://localhost:8080/"
        },
        "id": "1Mq6pSAW068C",
        "outputId": "d8f9b36b-fe6f-4eb5-abb4-3eddb0a1194c"
      },
      "execution_count": 8,
      "outputs": [
        {
          "output_type": "stream",
          "name": "stdout",
          "text": [
            "+---------+-------------------+------------+-----------+\n",
            "|VehicleID|          EntryTime|PreviousExit|IdleMinutes|\n",
            "+---------+-------------------+------------+-----------+\n",
            "|     V001|2024-05-01 08:01:00|        null|       null|\n",
            "|     V002|2024-05-01 08:10:00|        null|       null|\n",
            "|     V003|2024-05-01 09:00:00|        null|       null|\n",
            "|     V004|2024-05-01 09:15:00|        null|       null|\n",
            "|     V005|2024-05-01 10:05:00|        null|       null|\n",
            "+---------+-------------------+------------+-----------+\n",
            "\n"
          ]
        }
      ]
    },
    {
      "cell_type": "code",
      "source": [
        "# 1. Speed > 70 and trip < 10\n",
        "df.filter((col(\"SpeedKMH\") > 70) & (col(\"TripDurationMinutes\") < 10)).show()\n",
        "\n",
        "# 2. Low toll for long trips\n",
        "df.filter((col(\"TripDurationMinutes\") > 30) & (col(\"TollPaid\") < 50)).show()\n",
        "\n",
        "# 3. Suspicious backtracking\n",
        "df.filter(col(\"ExitPoint\") < col(\"EntryPoint\")).show()  # ASCII based, meh logic\n"
      ],
      "metadata": {
        "colab": {
          "base_uri": "https://localhost:8080/"
        },
        "id": "LVawAkSe08mU",
        "outputId": "d92bddf7-4a36-4f89-f6ca-57bc5011d920"
      },
      "execution_count": 9,
      "outputs": [
        {
          "output_type": "stream",
          "name": "stdout",
          "text": [
            "+-----+---------+----------+---------+---------+--------+-----------+--------+--------+-------------------+-----------+------------+-----------+\n",
            "|LogID|VehicleID|EntryPoint|ExitPoint|EntryTime|ExitTime|VehicleType|SpeedKMH|TollPaid|TripDurationMinutes|IsOverspeed|PreviousExit|IdleMinutes|\n",
            "+-----+---------+----------+---------+---------+--------+-----------+--------+--------+-------------------+-----------+------------+-----------+\n",
            "+-----+---------+----------+---------+---------+--------+-----------+--------+--------+-------------------+-----------+------------+-----------+\n",
            "\n",
            "+-----+---------+----------+---------+---------+--------+-----------+--------+--------+-------------------+-----------+------------+-----------+\n",
            "|LogID|VehicleID|EntryPoint|ExitPoint|EntryTime|ExitTime|VehicleType|SpeedKMH|TollPaid|TripDurationMinutes|IsOverspeed|PreviousExit|IdleMinutes|\n",
            "+-----+---------+----------+---------+---------+--------+-----------+--------+--------+-------------------+-----------+------------+-----------+\n",
            "+-----+---------+----------+---------+---------+--------+-----------+--------+--------+-------------------+-----------+------------+-----------+\n",
            "\n",
            "+-----+---------+----------+---------+-------------------+-------------------+-----------+--------+--------+-------------------+-----------+------------+-----------+\n",
            "|LogID|VehicleID|EntryPoint|ExitPoint|          EntryTime|           ExitTime|VehicleType|SpeedKMH|TollPaid|TripDurationMinutes|IsOverspeed|PreviousExit|IdleMinutes|\n",
            "+-----+---------+----------+---------+-------------------+-------------------+-----------+--------+--------+-------------------+-----------+------------+-----------+\n",
            "| L005|     V005|     GateB|    GateA|2024-05-01 10:05:00|2024-05-01 10:40:00|        Bus|      40|      70|               35.0|      false|        null|       null|\n",
            "+-----+---------+----------+---------+-------------------+-------------------+-----------+--------+--------+-------------------+-----------+------------+-----------+\n",
            "\n"
          ]
        }
      ]
    },
    {
      "cell_type": "code",
      "source": [
        "df_joined = df.join(registry, on=\"VehicleID\", how=\"left\")\n",
        "df_joined.groupBy(\"RegisteredCity\").count().show()\n"
      ],
      "metadata": {
        "colab": {
          "base_uri": "https://localhost:8080/"
        },
        "id": "ORDyaZB-0_WE",
        "outputId": "94011d52-ed88-4b56-b350-3425e402d43b"
      },
      "execution_count": 10,
      "outputs": [
        {
          "output_type": "stream",
          "name": "stdout",
          "text": [
            "+--------------+-----+\n",
            "|RegisteredCity|count|\n",
            "+--------------+-----+\n",
            "|     Bangalore|    1|\n",
            "|       Chennai|    1|\n",
            "|        Mumbai|    1|\n",
            "|          Pune|    1|\n",
            "|         Delhi|    1|\n",
            "+--------------+-----+\n",
            "\n"
          ]
        }
      ]
    },
    {
      "cell_type": "code",
      "source": [
        "\n",
        "df = df.withColumn(\"TripType\", when(col(\"TripDurationMinutes\") < 15, \"Short\")\n",
        "                   .when(col(\"TripDurationMinutes\") <= 30, \"Medium\")\n",
        "                   .otherwise(\"Long\"))\n",
        "\n",
        "from pyspark.sql.functions import to_date, count as spark_count\n",
        "\n",
        "df = df.withColumn(\"TripDate\", to_date(\"EntryTime\"))\n",
        "\n",
        "trip_counts = df.groupBy(\"VehicleID\", \"TripDate\").agg(spark_count(\"*\").alias(\"TripCount\"))\n",
        "frequent = trip_counts.filter(\"TripCount > 3\")\n",
        "frequent.show()\n"
      ],
      "metadata": {
        "colab": {
          "base_uri": "https://localhost:8080/"
        },
        "id": "9mMDrjRp1By-",
        "outputId": "854c2440-6caf-4c56-9953-85ce0a7b80d3"
      },
      "execution_count": 11,
      "outputs": [
        {
          "output_type": "stream",
          "name": "stdout",
          "text": [
            "+---------+--------+---------+\n",
            "|VehicleID|TripDate|TripCount|\n",
            "+---------+--------+---------+\n",
            "+---------+--------+---------+\n",
            "\n"
          ]
        }
      ]
    },
    {
      "cell_type": "code",
      "source": [
        "\n",
        "df_export = df.withColumn(\"EntryTime\", col(\"EntryTime\").cast(\"string\")) \\\n",
        "              .withColumn(\"ExitTime\", col(\"ExitTime\").cast(\"string\")) \\\n",
        "              .withColumn(\"TripDate\", col(\"TripDate\").cast(\"string\")) \\\n",
        "              .withColumn(\"PreviousExit\", col(\"PreviousExit\").cast(\"string\"))\n",
        "\n",
        "\n",
        "df_export.toPandas().to_csv(\"final_dashboard.csv\", index=False)\n",
        "\n",
        "from google.colab import files\n",
        "files.download(\"final_dashboard.csv\")\n"
      ],
      "metadata": {
        "colab": {
          "base_uri": "https://localhost:8080/",
          "height": 17
        },
        "id": "nHTvUWQv1EJL",
        "outputId": "05789415-c4a2-442d-c827-89f8ec0a7fc9"
      },
      "execution_count": 13,
      "outputs": [
        {
          "output_type": "display_data",
          "data": {
            "text/plain": [
              "<IPython.core.display.Javascript object>"
            ],
            "application/javascript": [
              "\n",
              "    async function download(id, filename, size) {\n",
              "      if (!google.colab.kernel.accessAllowed) {\n",
              "        return;\n",
              "      }\n",
              "      const div = document.createElement('div');\n",
              "      const label = document.createElement('label');\n",
              "      label.textContent = `Downloading \"${filename}\": `;\n",
              "      div.appendChild(label);\n",
              "      const progress = document.createElement('progress');\n",
              "      progress.max = size;\n",
              "      div.appendChild(progress);\n",
              "      document.body.appendChild(div);\n",
              "\n",
              "      const buffers = [];\n",
              "      let downloaded = 0;\n",
              "\n",
              "      const channel = await google.colab.kernel.comms.open(id);\n",
              "      // Send a message to notify the kernel that we're ready.\n",
              "      channel.send({})\n",
              "\n",
              "      for await (const message of channel.messages) {\n",
              "        // Send a message to notify the kernel that we're ready.\n",
              "        channel.send({})\n",
              "        if (message.buffers) {\n",
              "          for (const buffer of message.buffers) {\n",
              "            buffers.push(buffer);\n",
              "            downloaded += buffer.byteLength;\n",
              "            progress.value = downloaded;\n",
              "          }\n",
              "        }\n",
              "      }\n",
              "      const blob = new Blob(buffers, {type: 'application/binary'});\n",
              "      const a = document.createElement('a');\n",
              "      a.href = window.URL.createObjectURL(blob);\n",
              "      a.download = filename;\n",
              "      div.appendChild(a);\n",
              "      a.click();\n",
              "      div.remove();\n",
              "    }\n",
              "  "
            ]
          },
          "metadata": {}
        },
        {
          "output_type": "display_data",
          "data": {
            "text/plain": [
              "<IPython.core.display.Javascript object>"
            ],
            "application/javascript": [
              "download(\"download_1124cf19-38c4-4d6d-a2c6-40b37400d990\", \"final_dashboard.csv\", 675)"
            ]
          },
          "metadata": {}
        }
      ]
    }
  ]
}