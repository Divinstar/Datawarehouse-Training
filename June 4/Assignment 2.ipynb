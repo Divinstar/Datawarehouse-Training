{
  "nbformat": 4,
  "nbformat_minor": 0,
  "metadata": {
    "colab": {
      "provenance": []
    },
    "kernelspec": {
      "name": "python3",
      "display_name": "Python 3"
    },
    "language_info": {
      "name": "python"
    }
  },
  "cells": [
    {
      "cell_type": "code",
      "source": [
        "# Install Java and Spark (Updated link)\n",
        "!apt-get install openjdk-11-jdk -y -qq\n",
        "!wget -q https://archive.apache.org/dist/spark/spark-3.4.1/spark-3.4.1-bin-hadoop3.tgz\n",
        "!tar -xzf spark-3.4.1-bin-hadoop3.tgz\n",
        "!pip install -q findspark\n",
        "\n",
        "# Set environment variables\n",
        "import os\n",
        "os.environ[\"JAVA_HOME\"] = \"/usr/lib/jvm/java-11-openjdk-amd64\"\n",
        "os.environ[\"SPARK_HOME\"] = \"/content/spark-3.4.1-bin-hadoop3\"\n",
        "\n",
        "# Initialize findspark\n",
        "import findspark\n",
        "findspark.init()\n",
        "\n",
        "# Start Spark session (NO Hive support on Colab!)\n",
        "from pyspark.sql import SparkSession\n",
        "from pyspark.sql.functions import *\n",
        "\n",
        "spark = SparkSession.builder.appName(\"PracticeProject\").getOrCreate()\n"
      ],
      "metadata": {
        "id": "yHkUfjYKWCjC"
      },
      "execution_count": 4,
      "outputs": []
    },
    {
      "cell_type": "code",
      "source": [
        "# Data\n",
        "customers_data = [\n",
        "    (101, 'Ali', 'ali@gmail.com', 'Mumbai', '2022-05-10'),\n",
        "    (102, 'Neha', 'neha@yahoo.com', 'Delhi', '2023-01-15'),\n",
        "    (103, 'Ravi', 'ravi@hotmail.com', 'Bangalore', '2021-11-01'),\n",
        "    (104, 'Sneha', 'sneha@outlook.com', 'Hyderabad', '2020-07-22'),\n",
        "    (105, 'Amit', 'amit@gmail.com', 'Chennai', '2023-03-10'),\n",
        "]\n",
        "\n",
        "orders_data = [\n",
        "    (1, 101, 'Laptop', 'Electronics', 2, 50000.0, '2024-01-10'),\n",
        "    (2, 101, 'Mouse', 'Electronics', 1, 1200.0, '2024-01-15'),\n",
        "    (3, 102, 'Tablet', 'Electronics', 1, 20000.0, '2024-02-01'),\n",
        "    (4, 103, 'Bookshelf', 'Furniture', 1, 3500.0, '2024-02-10'),\n",
        "    (5, 104, 'Mixer', 'Appliances', 1, 5000.0, '2024-02-15'),\n",
        "    (6, 105, 'Notebook', 'Stationery', 5, 500.0, '2024-03-01'),\n",
        "    (7, 102, 'Phone', 'Electronics', 1, 30000.0, '2024-03-02'),\n",
        "]\n",
        "\n",
        "# Create DataFrames\n",
        "customers_df = spark.createDataFrame(customers_data, [\"CustomerID\", \"Name\", \"Email\", \"City\", \"SignupDate\"])\n",
        "orders_df = spark.createDataFrame(orders_data, [\"OrderID\", \"CustomerID\", \"Product\", \"Category\", \"Quantity\", \"Price\", \"OrderDate\"])\n",
        "\n",
        "# Register as temp views for SQL queries\n",
        "customers_df.createOrReplaceTempView(\"customers\")\n",
        "orders_df.createOrReplaceTempView(\"orders\")\n"
      ],
      "metadata": {
        "id": "vmbdfctVWskv"
      },
      "execution_count": 13,
      "outputs": []
    },
    {
      "cell_type": "code",
      "source": [
        "# 1. Add TotalAmount column\n",
        "orders_df = orders_df.withColumn(\"TotalAmount\", col(\"Price\") * col(\"Quantity\"))\n"
      ],
      "metadata": {
        "id": "ZqFxfAGiX8hS"
      },
      "execution_count": 14,
      "outputs": []
    },
    {
      "cell_type": "code",
      "source": [
        "# 2. Filter orders with TotalAmount > 10000\n",
        "orders_df.filter(col(\"TotalAmount\") > 10000).show()\n",
        "\n",
        "# 3. Standardize City field\n",
        "customers_df = customers_df.withColumn(\"City\", lower(col(\"City\")))\n",
        "\n",
        "# 4. Extract year from OrderDate\n",
        "orders_df = orders_df.withColumn(\"OrderYear\", year(to_date(\"OrderDate\")))\n",
        "\n",
        "# 5. Fill null values in any column (example: Category with 'Unknown')\n",
        "orders_df = orders_df.fillna({'Category': 'Unknown'})\n",
        "\n",
        "# 6. Categorize orders using when/otherwise\n",
        "orders_df = orders_df.withColumn(\n",
        "    \"OrderCategory\",\n",
        "    when(col(\"TotalAmount\") < 5000, \"Low\")\n",
        "    .when(col(\"TotalAmount\").between(5000, 20000), \"Medium\")\n",
        "    .otherwise(\"High\")\n",
        ")\n",
        "\n",
        "orders_df.select(\"Product\", \"TotalAmount\", \"OrderCategory\").show()"
      ],
      "metadata": {
        "colab": {
          "base_uri": "https://localhost:8080/"
        },
        "id": "zsYW2UhtYiDr",
        "outputId": "ed19f00b-0eb4-45c8-c780-f356a7949421"
      },
      "execution_count": 15,
      "outputs": [
        {
          "output_type": "stream",
          "name": "stdout",
          "text": [
            "+-------+----------+-------+-----------+--------+-------+----------+-----------+\n",
            "|OrderID|CustomerID|Product|   Category|Quantity|  Price| OrderDate|TotalAmount|\n",
            "+-------+----------+-------+-----------+--------+-------+----------+-----------+\n",
            "|      1|       101| Laptop|Electronics|       2|50000.0|2024-01-10|   100000.0|\n",
            "|      3|       102| Tablet|Electronics|       1|20000.0|2024-02-01|    20000.0|\n",
            "|      7|       102|  Phone|Electronics|       1|30000.0|2024-03-02|    30000.0|\n",
            "+-------+----------+-------+-----------+--------+-------+----------+-----------+\n",
            "\n",
            "+---------+-----------+-------------+\n",
            "|  Product|TotalAmount|OrderCategory|\n",
            "+---------+-----------+-------------+\n",
            "|   Laptop|   100000.0|         High|\n",
            "|    Mouse|     1200.0|          Low|\n",
            "|   Tablet|    20000.0|       Medium|\n",
            "|Bookshelf|     3500.0|          Low|\n",
            "|    Mixer|     5000.0|       Medium|\n",
            "| Notebook|     2500.0|          Low|\n",
            "|    Phone|    30000.0|         High|\n",
            "+---------+-----------+-------------+\n",
            "\n"
          ]
        }
      ]
    },
    {
      "cell_type": "code",
      "source": [
        "# Re-register updated views\n",
        "customers_df.createOrReplaceTempView(\"customers\")\n",
        "orders_df.createOrReplaceTempView(\"orders\")"
      ],
      "metadata": {
        "id": "KKgTEF_7YjBI"
      },
      "execution_count": 16,
      "outputs": []
    },
    {
      "cell_type": "code",
      "source": [
        "# 7. All orders made by \"Ali\"\n",
        "spark.sql(\"\"\"\n",
        "    SELECT * FROM orders o\n",
        "    JOIN customers c ON o.CustomerID = c.CustomerID\n",
        "    WHERE c.Name = 'Ali'\n",
        "\"\"\").show()"
      ],
      "metadata": {
        "colab": {
          "base_uri": "https://localhost:8080/"
        },
        "id": "p-GNXLrkYlBS",
        "outputId": "53a2d988-7d1b-4114-f82b-e26dff75f004"
      },
      "execution_count": 17,
      "outputs": [
        {
          "output_type": "stream",
          "name": "stdout",
          "text": [
            "+-------+----------+-------+-----------+--------+-------+----------+-----------+---------+-------------+----------+----+-------------+------+----------+\n",
            "|OrderID|CustomerID|Product|   Category|Quantity|  Price| OrderDate|TotalAmount|OrderYear|OrderCategory|CustomerID|Name|        Email|  City|SignupDate|\n",
            "+-------+----------+-------+-----------+--------+-------+----------+-----------+---------+-------------+----------+----+-------------+------+----------+\n",
            "|      1|       101| Laptop|Electronics|       2|50000.0|2024-01-10|   100000.0|     2024|         High|       101| Ali|ali@gmail.com|mumbai|2022-05-10|\n",
            "|      2|       101|  Mouse|Electronics|       1| 1200.0|2024-01-15|     1200.0|     2024|          Low|       101| Ali|ali@gmail.com|mumbai|2022-05-10|\n",
            "+-------+----------+-------+-----------+--------+-------+----------+-----------+---------+-------------+----------+----+-------------+------+----------+\n",
            "\n"
          ]
        }
      ]
    },
    {
      "cell_type": "code",
      "source": [
        "# 8. Total spending by each customer\n",
        "spark.sql(\"\"\"\n",
        "    SELECT c.Name, SUM(o.TotalAmount) AS TotalSpent\n",
        "    FROM orders o\n",
        "    JOIN customers c ON o.CustomerID = c.CustomerID\n",
        "    GROUP BY c.Name\n",
        "\"\"\").show()"
      ],
      "metadata": {
        "colab": {
          "base_uri": "https://localhost:8080/"
        },
        "id": "smhH0fgBYnfx",
        "outputId": "95215e46-b662-4b0f-f772-b9171a3bedad"
      },
      "execution_count": 18,
      "outputs": [
        {
          "output_type": "stream",
          "name": "stdout",
          "text": [
            "+-----+----------+\n",
            "| Name|TotalSpent|\n",
            "+-----+----------+\n",
            "| Ravi|    3500.0|\n",
            "|Sneha|    5000.0|\n",
            "| Amit|    2500.0|\n",
            "| Neha|   50000.0|\n",
            "|  Ali|  101200.0|\n",
            "+-----+----------+\n",
            "\n"
          ]
        }
      ]
    },
    {
      "cell_type": "code",
      "source": [
        "# 9. Category with highest total revenue\n",
        "spark.sql(\"\"\"\n",
        "    SELECT Category, SUM(TotalAmount) AS Revenue\n",
        "    FROM orders\n",
        "    GROUP BY Category\n",
        "    ORDER BY Revenue DESC\n",
        "    LIMIT 1\n",
        "\"\"\").show()"
      ],
      "metadata": {
        "colab": {
          "base_uri": "https://localhost:8080/"
        },
        "id": "JeK-ZMHZYoB8",
        "outputId": "01bd723b-5269-46f0-bd77-a79be4c85d2a"
      },
      "execution_count": 19,
      "outputs": [
        {
          "output_type": "stream",
          "name": "stdout",
          "text": [
            "+-----------+--------+\n",
            "|   Category| Revenue|\n",
            "+-----------+--------+\n",
            "|Electronics|151200.0|\n",
            "+-----------+--------+\n",
            "\n"
          ]
        }
      ]
    },
    {
      "cell_type": "code",
      "source": [
        "# 10. Create view: customer_orders\n",
        "customer_orders = spark.sql(\"\"\"\n",
        "    SELECT c.Name AS CustomerName, o.Product, o.TotalAmount\n",
        "    FROM orders o\n",
        "    JOIN customers c ON o.CustomerID = c.CustomerID\n",
        "\"\"\")\n",
        "customer_orders.createOrReplaceTempView(\"customer_orders\")"
      ],
      "metadata": {
        "id": "yPzsCnDoYoEg"
      },
      "execution_count": 20,
      "outputs": []
    },
    {
      "cell_type": "code",
      "source": [
        "\n",
        "# 11. Query view for products ordered after Feb 2024\n",
        "spark.sql(\"\"\"\n",
        "    SELECT * FROM customer_orders co\n",
        "    JOIN orders o ON co.Product = o.Product\n",
        "    WHERE o.OrderDate > '2024-02-01'\n",
        "\"\"\").show()"
      ],
      "metadata": {
        "colab": {
          "base_uri": "https://localhost:8080/"
        },
        "id": "WXarLd0AYoHA",
        "outputId": "11399100-a5d7-4594-fd97-b8268aff0001"
      },
      "execution_count": 21,
      "outputs": [
        {
          "output_type": "stream",
          "name": "stdout",
          "text": [
            "+------------+---------+-----------+-------+----------+---------+-----------+--------+-------+----------+-----------+---------+-------------+\n",
            "|CustomerName|  Product|TotalAmount|OrderID|CustomerID|  Product|   Category|Quantity|  Price| OrderDate|TotalAmount|OrderYear|OrderCategory|\n",
            "+------------+---------+-----------+-------+----------+---------+-----------+--------+-------+----------+-----------+---------+-------------+\n",
            "|        Neha|    Phone|    30000.0|      7|       102|    Phone|Electronics|       1|30000.0|2024-03-02|    30000.0|     2024|         High|\n",
            "|        Ravi|Bookshelf|     3500.0|      4|       103|Bookshelf|  Furniture|       1| 3500.0|2024-02-10|     3500.0|     2024|          Low|\n",
            "|        Amit| Notebook|     2500.0|      6|       105| Notebook| Stationery|       5|  500.0|2024-03-01|     2500.0|     2024|          Low|\n",
            "|       Sneha|    Mixer|     5000.0|      5|       104|    Mixer| Appliances|       1| 5000.0|2024-02-15|     5000.0|     2024|       Medium|\n",
            "+------------+---------+-----------+-------+----------+---------+-----------+--------+-------+----------+-----------+---------+-------------+\n",
            "\n"
          ]
        }
      ]
    },
    {
      "cell_type": "code",
      "source": [
        "# 12. Global temp view\n",
        "customers_df.createOrReplaceGlobalTempView(\"customers\")\n",
        "spark.sql(\"SELECT * FROM global_temp.customers WHERE City = 'mumbai'\").show()"
      ],
      "metadata": {
        "colab": {
          "base_uri": "https://localhost:8080/"
        },
        "id": "AWsba8ssYoTD",
        "outputId": "bc21edce-face-4bd1-f9fc-8a83ca8229c9"
      },
      "execution_count": 22,
      "outputs": [
        {
          "output_type": "stream",
          "name": "stdout",
          "text": [
            "+----------+----+-------------+------+----------+\n",
            "|CustomerID|Name|        Email|  City|SignupDate|\n",
            "+----------+----+-------------+------+----------+\n",
            "|       101| Ali|ali@gmail.com|mumbai|2022-05-10|\n",
            "+----------+----+-------------+------+----------+\n",
            "\n"
          ]
        }
      ]
    },
    {
      "cell_type": "code",
      "source": [
        "# 13. Save orders_df (with TotalAmount) to Parquet\n",
        "orders_df.write.mode(\"overwrite\").parquet(\"/content/orders_output\")"
      ],
      "metadata": {
        "id": "nu_lkiOPYuMW"
      },
      "execution_count": 23,
      "outputs": []
    },
    {
      "cell_type": "code",
      "source": [
        "\n",
        "# 14. Read back Parquet and count orders\n",
        "orders_parquet = spark.read.parquet(\"/content/orders_output\")\n",
        "print(\"Total orders in parquet:\", orders_parquet.count())"
      ],
      "metadata": {
        "colab": {
          "base_uri": "https://localhost:8080/"
        },
        "id": "NbA9OgYkYuQh",
        "outputId": "0522044b-80a9-4b0f-de70-dbfc8e7daaf5"
      },
      "execution_count": 24,
      "outputs": [
        {
          "output_type": "stream",
          "name": "stdout",
          "text": [
            "Total orders in parquet: 7\n"
          ]
        }
      ]
    },
    {
      "cell_type": "code",
      "source": [
        "from pyspark.sql.types import StringType\n",
        "\n",
        "# 15. UDF to mask emails (e.g., a***@gmail.com)\n",
        "def mask_email(email):\n",
        "    parts = email.split(\"@\")\n",
        "    return parts[0][0] + \"***@\" + parts[1] if len(parts) == 2 else email\n",
        "\n",
        "mask_email_udf = udf(mask_email, StringType())\n",
        "customers_df = customers_df.withColumn(\"MaskedEmail\", mask_email_udf(\"Email\"))\n",
        "customers_df.select(\"Email\", \"MaskedEmail\").show()"
      ],
      "metadata": {
        "colab": {
          "base_uri": "https://localhost:8080/"
        },
        "id": "4UjHGj_DYx7l",
        "outputId": "47c9f4fe-e83c-4639-eba5-3f119efc5b4b"
      },
      "execution_count": 11,
      "outputs": [
        {
          "output_type": "stream",
          "name": "stdout",
          "text": [
            "+-----------------+----------------+\n",
            "|            Email|     MaskedEmail|\n",
            "+-----------------+----------------+\n",
            "|    ali@gmail.com|  a***@gmail.com|\n",
            "|   neha@yahoo.com|  n***@yahoo.com|\n",
            "| ravi@hotmail.com|r***@hotmail.com|\n",
            "|sneha@outlook.com|s***@outlook.com|\n",
            "|   amit@gmail.com|  a***@gmail.com|\n",
            "+-----------------+----------------+\n",
            "\n"
          ]
        }
      ]
    },
    {
      "cell_type": "code",
      "source": [
        "# 16. Use concat_ws() to label \"Ali from Mumbai\"\n",
        "customers_df = customers_df.withColumn(\"Label\", concat_ws(\" from \", col(\"Name\"), initcap(col(\"City\"))))\n",
        "customers_df.select(\"Label\").show()\n",
        "\n",
        "# 17. Use regexp_replace() to clean product names\n",
        "orders_df = orders_df.withColumn(\"CleanProduct\", regexp_replace(\"Product\", \"[^a-zA-Z0-9 ]\", \"\"))\n",
        "orders_df.select(\"Product\", \"CleanProduct\").show()"
      ],
      "metadata": {
        "colab": {
          "base_uri": "https://localhost:8080/"
        },
        "id": "AUAjvwBmYyF6",
        "outputId": "1a4d5c1e-53ed-4e68-8349-6a67acd8182c"
      },
      "execution_count": 9,
      "outputs": [
        {
          "output_type": "stream",
          "name": "stdout",
          "text": [
            "+--------------------+\n",
            "|               Label|\n",
            "+--------------------+\n",
            "|     Ali from Mumbai|\n",
            "|     Neha from Delhi|\n",
            "| Ravi from Bangalore|\n",
            "|Sneha from Hyderabad|\n",
            "|   Amit from Chennai|\n",
            "+--------------------+\n",
            "\n",
            "+---------+------------+\n",
            "|  Product|CleanProduct|\n",
            "+---------+------------+\n",
            "|   Laptop|      Laptop|\n",
            "|    Mouse|       Mouse|\n",
            "|   Tablet|      Tablet|\n",
            "|Bookshelf|   Bookshelf|\n",
            "|    Mixer|       Mixer|\n",
            "| Notebook|    Notebook|\n",
            "|    Phone|       Phone|\n",
            "+---------+------------+\n",
            "\n"
          ]
        }
      ]
    },
    {
      "cell_type": "code",
      "source": [
        "# 18. Calculate customer age in days\n",
        "customers_df = customers_df.withColumn(\"SignupDate\", to_date(\"SignupDate\"))\n",
        "customers_df = customers_df.withColumn(\"DaysSinceSignup\", datediff(current_date(), col(\"SignupDate\")))\n",
        "customers_df.select(\"Name\", \"SignupDate\", \"DaysSinceSignup\").show()"
      ],
      "metadata": {
        "colab": {
          "base_uri": "https://localhost:8080/"
        },
        "id": "i_MgnT0kYyNR",
        "outputId": "764f4b47-d41a-42c5-f8a3-7f10f2acc891"
      },
      "execution_count": 10,
      "outputs": [
        {
          "output_type": "stream",
          "name": "stdout",
          "text": [
            "+-----+----------+---------------+\n",
            "| Name|SignupDate|DaysSinceSignup|\n",
            "+-----+----------+---------------+\n",
            "|  Ali|2022-05-10|           1121|\n",
            "| Neha|2023-01-15|            871|\n",
            "| Ravi|2021-11-01|           1311|\n",
            "|Sneha|2020-07-22|           1778|\n",
            "| Amit|2023-03-10|            817|\n",
            "+-----+----------+---------------+\n",
            "\n"
          ]
        }
      ]
    }
  ]
}