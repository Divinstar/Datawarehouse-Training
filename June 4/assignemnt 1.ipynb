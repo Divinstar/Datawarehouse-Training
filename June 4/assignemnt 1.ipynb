{
  "nbformat": 4,
  "nbformat_minor": 0,
  "metadata": {
    "colab": {
      "provenance": []
    },
    "kernelspec": {
      "name": "python3",
      "display_name": "Python 3"
    },
    "language_info": {
      "name": "python"
    }
  },
  "cells": [
    {
      "cell_type": "code",
      "execution_count": 3,
      "metadata": {
        "colab": {
          "base_uri": "https://localhost:8080/"
        },
        "id": "e__X7oC6u2UY",
        "outputId": "e4e03044-93b9-48c9-abb3-214d4cb46003"
      },
      "outputs": [
        {
          "output_type": "execute_result",
          "data": {
            "text/plain": [
              "DataFrame[]"
            ]
          },
          "metadata": {},
          "execution_count": 3
        }
      ],
      "source": [
        "# 1. Create a new database\n",
        "spark.sql(\"CREATE DATABASE IF NOT EXISTS sales_db\")\n",
        "\n",
        "# 2. Set current database\n",
        "spark.sql(\"USE sales_db\")\n",
        "\n",
        "# 3. Create product_sales table\n",
        "spark.sql(\"\"\"\n",
        "CREATE TABLE IF NOT EXISTS product_sales (\n",
        "    ProductID INT,\n",
        "    ProductName STRING,\n",
        "    Category STRING,\n",
        "    Price DOUBLE,\n",
        "    Quantity INT,\n",
        "    SaleDate DATE\n",
        ")\n",
        "USING PARQUET\n",
        "\"\"\")"
      ]
    },
    {
      "cell_type": "code",
      "source": [
        "# 4. Insert 5 rows into product_sales\n",
        "spark.sql(\"INSERT INTO product_sales VALUES (1, 'Laptop', 'Electronics', 55000, 2, DATE('2024-01-12'))\")\n",
        "spark.sql(\"INSERT INTO product_sales VALUES (2, 'Mouse', 'Electronics', 800, 5, DATE('2024-01-13'))\")\n",
        "spark.sql(\"INSERT INTO product_sales VALUES (3, 'Shirt', 'Fashion', 1200, 3, DATE('2024-02-01'))\")\n",
        "spark.sql(\"INSERT INTO product_sales VALUES (4, 'Book', 'Books', 500, 4, DATE('2024-02-15'))\")\n",
        "spark.sql(\"INSERT INTO product_sales VALUES (5, 'Chair', 'Furniture', 2000, 1, DATE('2024-03-10'))\")"
      ],
      "metadata": {
        "colab": {
          "base_uri": "https://localhost:8080/"
        },
        "id": "ouf3WIhovhmP",
        "outputId": "74af384e-d46d-4cc0-89ed-3a7702745f5d"
      },
      "execution_count": 4,
      "outputs": [
        {
          "output_type": "execute_result",
          "data": {
            "text/plain": [
              "DataFrame[]"
            ]
          },
          "metadata": {},
          "execution_count": 4
        }
      ]
    },
    {
      "cell_type": "code",
      "source": [
        "# 5. Select all records\n",
        "spark.sql(\"SELECT * FROM product_sales\").show()"
      ],
      "metadata": {
        "colab": {
          "base_uri": "https://localhost:8080/"
        },
        "id": "nT2tfiCgvq7E",
        "outputId": "b1d42ebf-5ffb-4471-b3c5-d0530ede825c"
      },
      "execution_count": 5,
      "outputs": [
        {
          "output_type": "stream",
          "name": "stdout",
          "text": [
            "+---------+-----------+-----------+-------+--------+----------+\n",
            "|ProductID|ProductName|   Category|  Price|Quantity|  SaleDate|\n",
            "+---------+-----------+-----------+-------+--------+----------+\n",
            "|        1|     Laptop|Electronics|55000.0|       2|2024-01-12|\n",
            "|        2|      Mouse|Electronics|  800.0|       5|2024-01-13|\n",
            "|        5|      Chair|  Furniture| 2000.0|       1|2024-03-10|\n",
            "|        3|      Shirt|    Fashion| 1200.0|       3|2024-02-01|\n",
            "|        4|       Book|      Books|  500.0|       4|2024-02-15|\n",
            "+---------+-----------+-----------+-------+--------+----------+\n",
            "\n"
          ]
        }
      ]
    },
    {
      "cell_type": "code",
      "source": [
        "# 6. Products with price > 500\n",
        "spark.sql(\"SELECT * FROM product_sales WHERE Price > 500\").show()"
      ],
      "metadata": {
        "colab": {
          "base_uri": "https://localhost:8080/"
        },
        "id": "dWcYj7clvtMV",
        "outputId": "082e25ef-f1a0-42ec-d5ce-fe16c62d6b1e"
      },
      "execution_count": 6,
      "outputs": [
        {
          "output_type": "stream",
          "name": "stdout",
          "text": [
            "+---------+-----------+-----------+-------+--------+----------+\n",
            "|ProductID|ProductName|   Category|  Price|Quantity|  SaleDate|\n",
            "+---------+-----------+-----------+-------+--------+----------+\n",
            "|        1|     Laptop|Electronics|55000.0|       2|2024-01-12|\n",
            "|        2|      Mouse|Electronics|  800.0|       5|2024-01-13|\n",
            "|        5|      Chair|  Furniture| 2000.0|       1|2024-03-10|\n",
            "|        3|      Shirt|    Fashion| 1200.0|       3|2024-02-01|\n",
            "+---------+-----------+-----------+-------+--------+----------+\n",
            "\n"
          ]
        }
      ]
    },
    {
      "cell_type": "code",
      "source": [
        "# 7. Total sale amount for each product\n",
        "spark.sql(\"SELECT ProductName, Price * Quantity AS TotalSale FROM product_sales\").show()"
      ],
      "metadata": {
        "colab": {
          "base_uri": "https://localhost:8080/"
        },
        "id": "lSs-o9uJvvWX",
        "outputId": "8d6eb4a0-2a0e-42e1-c607-50a2728641de"
      },
      "execution_count": 7,
      "outputs": [
        {
          "output_type": "stream",
          "name": "stdout",
          "text": [
            "+-----------+---------+\n",
            "|ProductName|TotalSale|\n",
            "+-----------+---------+\n",
            "|     Laptop| 110000.0|\n",
            "|      Mouse|   4000.0|\n",
            "|      Chair|   2000.0|\n",
            "|      Shirt|   3600.0|\n",
            "|       Book|   2000.0|\n",
            "+-----------+---------+\n",
            "\n"
          ]
        }
      ]
    },
    {
      "cell_type": "code",
      "source": [
        "# 8. Count of products sold per category\n",
        "spark.sql(\"SELECT Category, SUM(Quantity) AS TotalSold FROM product_sales GROUP BY Category\").show()\n"
      ],
      "metadata": {
        "colab": {
          "base_uri": "https://localhost:8080/"
        },
        "id": "163MHgqSvvfD",
        "outputId": "777d4894-b1ca-47e4-f234-db3edc159847"
      },
      "execution_count": 8,
      "outputs": [
        {
          "output_type": "stream",
          "name": "stdout",
          "text": [
            "+-----------+---------+\n",
            "|   Category|TotalSold|\n",
            "+-----------+---------+\n",
            "|Electronics|        7|\n",
            "|  Furniture|        1|\n",
            "|    Fashion|        3|\n",
            "|      Books|        4|\n",
            "+-----------+---------+\n",
            "\n"
          ]
        }
      ]
    },
    {
      "cell_type": "code",
      "source": [
        "# 9. Sort by total sales descending\n",
        "spark.sql(\"SELECT ProductName, Price * Quantity AS TotalSale FROM product_sales ORDER BY TotalSale DESC\").show()"
      ],
      "metadata": {
        "colab": {
          "base_uri": "https://localhost:8080/"
        },
        "id": "3I404Y1Wvvmc",
        "outputId": "831be2ad-b5ac-4be2-d4e8-82cbae398123"
      },
      "execution_count": 9,
      "outputs": [
        {
          "output_type": "stream",
          "name": "stdout",
          "text": [
            "+-----------+---------+\n",
            "|ProductName|TotalSale|\n",
            "+-----------+---------+\n",
            "|     Laptop| 110000.0|\n",
            "|      Mouse|   4000.0|\n",
            "|      Shirt|   3600.0|\n",
            "|      Chair|   2000.0|\n",
            "|       Book|   2000.0|\n",
            "+-----------+---------+\n",
            "\n"
          ]
        }
      ]
    },
    {
      "cell_type": "code",
      "source": [
        "# 10. Create dummy DataFrame\n",
        "temp_data = [\n",
        "    Row(ProductID=101, ProductName=\"Tablet\", Quantity=1),\n",
        "    Row(ProductID=102, ProductName=\"Headphones\", Quantity=3)\n",
        "]\n",
        "df_temp = spark.createDataFrame(temp_data)"
      ],
      "metadata": {
        "id": "UmGrKe1hvvst"
      },
      "execution_count": 10,
      "outputs": []
    },
    {
      "cell_type": "code",
      "source": [
        "# 11. Register as temp view\n",
        "df_temp.createOrReplaceTempView(\"temp_orders\")"
      ],
      "metadata": {
        "id": "E7Lxdzrkvvwv"
      },
      "execution_count": 11,
      "outputs": []
    },
    {
      "cell_type": "code",
      "source": [
        "# 12. SQL query: quantity > 1\n",
        "spark.sql(\"SELECT * FROM temp_orders WHERE Quantity > 1\").show()"
      ],
      "metadata": {
        "colab": {
          "base_uri": "https://localhost:8080/"
        },
        "id": "McY0fOF8vv0q",
        "outputId": "62064128-a1be-40b9-a48d-7b35343e4620"
      },
      "execution_count": 12,
      "outputs": [
        {
          "output_type": "stream",
          "name": "stdout",
          "text": [
            "+---------+-----------+--------+\n",
            "|ProductID|ProductName|Quantity|\n",
            "+---------+-----------+--------+\n",
            "|      102| Headphones|       3|\n",
            "+---------+-----------+--------+\n",
            "\n"
          ]
        }
      ]
    },
    {
      "cell_type": "code",
      "source": [
        "\n",
        "# 13. Create global temp view\n",
        "df_temp.createOrReplaceGlobalTempView(\"global_orders\")"
      ],
      "metadata": {
        "id": "Nytz7aAbv7TG"
      },
      "execution_count": 13,
      "outputs": []
    },
    {
      "cell_type": "code",
      "source": [
        "# 14. Query from another cell/session\n",
        "spark.sql(\"SELECT * FROM global_temp.global_orders\").show()"
      ],
      "metadata": {
        "colab": {
          "base_uri": "https://localhost:8080/"
        },
        "id": "Qav4qOuWv7he",
        "outputId": "6f19f5c1-dbc1-42e3-8655-2bf1b2a332bb"
      },
      "execution_count": 14,
      "outputs": [
        {
          "output_type": "stream",
          "name": "stdout",
          "text": [
            "+---------+-----------+--------+\n",
            "|ProductID|ProductName|Quantity|\n",
            "+---------+-----------+--------+\n",
            "|      101|     Tablet|       1|\n",
            "|      102| Headphones|       3|\n",
            "+---------+-----------+--------+\n",
            "\n"
          ]
        }
      ]
    },
    {
      "cell_type": "code",
      "source": [
        "# 15. Create customer_details table\n",
        "spark.sql(\"\"\"\n",
        "CREATE TABLE IF NOT EXISTS customer_details (\n",
        "    CustomerID INT,\n",
        "    Name STRING,\n",
        "    Gender STRING,\n",
        "    City STRING,\n",
        "    SignupDate DATE\n",
        ")\n",
        "USING PARQUET\n",
        "\"\"\")"
      ],
      "metadata": {
        "colab": {
          "base_uri": "https://localhost:8080/"
        },
        "id": "AhzO4kQ4v7pa",
        "outputId": "687d25ac-376c-43ab-cf35-8812f96759a7"
      },
      "execution_count": 15,
      "outputs": [
        {
          "output_type": "execute_result",
          "data": {
            "text/plain": [
              "DataFrame[]"
            ]
          },
          "metadata": {},
          "execution_count": 15
        }
      ]
    },
    {
      "cell_type": "code",
      "source": [
        "# 16. Insert 3 records\n",
        "spark.sql(\"INSERT INTO customer_details VALUES (1, 'Ali', 'Male', 'Hyderabad', DATE('2022-05-10'))\")\n",
        "spark.sql(\"INSERT INTO customer_details VALUES (2, 'Neha', 'Female', 'Mumbai', DATE('2023-01-15'))\")\n",
        "spark.sql(\"INSERT INTO customer_details VALUES (3, 'Ravi', 'Male', 'Delhi', DATE('2021-12-01'))\")"
      ],
      "metadata": {
        "colab": {
          "base_uri": "https://localhost:8080/"
        },
        "id": "8xaTjefXv7wc",
        "outputId": "a51f2584-6b0e-4149-d51c-f066590b2a56"
      },
      "execution_count": 16,
      "outputs": [
        {
          "output_type": "execute_result",
          "data": {
            "text/plain": [
              "DataFrame[]"
            ]
          },
          "metadata": {},
          "execution_count": 16
        }
      ]
    },
    {
      "cell_type": "code",
      "source": [
        "# 17. Join (simulate match with ProductID = CustomerID)\n",
        "spark.sql(\"\"\"\n",
        "SELECT p.ProductID, p.ProductName, c.Name, c.City\n",
        "FROM product_sales p\n",
        "JOIN customer_details c\n",
        "ON p.ProductID = c.CustomerID\n",
        "\"\"\").show()"
      ],
      "metadata": {
        "colab": {
          "base_uri": "https://localhost:8080/"
        },
        "id": "O8cOGQ1Hv724",
        "outputId": "c9165b47-2523-43aa-9607-03f1a205ace8"
      },
      "execution_count": 17,
      "outputs": [
        {
          "output_type": "stream",
          "name": "stdout",
          "text": [
            "+---------+-----------+----+---------+\n",
            "|ProductID|ProductName|Name|     City|\n",
            "+---------+-----------+----+---------+\n",
            "|        1|     Laptop| Ali|Hyderabad|\n",
            "|        2|      Mouse|Neha|   Mumbai|\n",
            "|        3|      Shirt|Ravi|    Delhi|\n",
            "+---------+-----------+----+---------+\n",
            "\n"
          ]
        }
      ]
    },
    {
      "cell_type": "code",
      "source": [
        "# 18. Customers who bought more than 2 products\n",
        "spark.sql(\"\"\"\n",
        "SELECT c.Name, SUM(p.Quantity) AS TotalPurchased\n",
        "FROM product_sales p\n",
        "JOIN customer_details c\n",
        "ON p.ProductID = c.CustomerID\n",
        "GROUP BY c.Name\n",
        "HAVING TotalPurchased > 2\n",
        "\"\"\").show()"
      ],
      "metadata": {
        "colab": {
          "base_uri": "https://localhost:8080/"
        },
        "id": "0uZMJY4lv78f",
        "outputId": "b29c5958-20b1-41ce-d203-5acefb5d26ca"
      },
      "execution_count": 18,
      "outputs": [
        {
          "output_type": "stream",
          "name": "stdout",
          "text": [
            "+----+--------------+\n",
            "|Name|TotalPurchased|\n",
            "+----+--------------+\n",
            "|Neha|             5|\n",
            "|Ravi|             3|\n",
            "+----+--------------+\n",
            "\n"
          ]
        }
      ]
    },
    {
      "cell_type": "code",
      "source": [
        "# 19. Create sales_summary view\n",
        "spark.sql(\"\"\"\n",
        "CREATE OR REPLACE VIEW sales_summary AS\n",
        "SELECT ProductName, Price, Quantity, (Price * Quantity) AS Total\n",
        "FROM product_sales\n",
        "\"\"\")"
      ],
      "metadata": {
        "colab": {
          "base_uri": "https://localhost:8080/"
        },
        "id": "qFOZKuOuv8Ca",
        "outputId": "9c943dac-4b91-4a79-dc5d-4a72e49cadbc"
      },
      "execution_count": 19,
      "outputs": [
        {
          "output_type": "execute_result",
          "data": {
            "text/plain": [
              "DataFrame[]"
            ]
          },
          "metadata": {},
          "execution_count": 19
        }
      ]
    },
    {
      "cell_type": "code",
      "source": [
        "# 20. Query sales_summary where Total > 1000\n",
        "spark.sql(\"SELECT * FROM sales_summary WHERE Total > 1000\").show()"
      ],
      "metadata": {
        "colab": {
          "base_uri": "https://localhost:8080/"
        },
        "id": "tc2Z3_mMv8H3",
        "outputId": "cc13ba76-39d1-4e0c-a12f-fd0047ff3b9b"
      },
      "execution_count": 20,
      "outputs": [
        {
          "output_type": "stream",
          "name": "stdout",
          "text": [
            "+-----------+-------+--------+--------+\n",
            "|ProductName|  Price|Quantity|   Total|\n",
            "+-----------+-------+--------+--------+\n",
            "|     Laptop|55000.0|       2|110000.0|\n",
            "|      Mouse|  800.0|       5|  4000.0|\n",
            "|      Chair| 2000.0|       1|  2000.0|\n",
            "|      Shirt| 1200.0|       3|  3600.0|\n",
            "|       Book|  500.0|       4|  2000.0|\n",
            "+-----------+-------+--------+--------+\n",
            "\n"
          ]
        }
      ]
    },
    {
      "cell_type": "code",
      "source": [
        "# 21. Drop the view\n",
        "spark.sql(\"DROP VIEW IF EXISTS sales_summary\")\n",
        "\n",
        "# 22. Drop both tables\n",
        "spark.sql(\"DROP TABLE IF EXISTS product_sales\")\n",
        "spark.sql(\"DROP TABLE IF EXISTS customer_details\")\n",
        "\n",
        "# 23. Drop the database\n",
        "spark.sql(\"DROP DATABASE IF EXISTS sales_db CASCADE\")"
      ],
      "metadata": {
        "colab": {
          "base_uri": "https://localhost:8080/"
        },
        "id": "NRVeWBtJwH99",
        "outputId": "9bfbaf9e-9767-4c31-b290-9ad0c7687549"
      },
      "execution_count": 21,
      "outputs": [
        {
          "output_type": "execute_result",
          "data": {
            "text/plain": [
              "DataFrame[]"
            ]
          },
          "metadata": {},
          "execution_count": 21
        }
      ]
    },
    {
      "cell_type": "code",
      "source": [],
      "metadata": {
        "id": "Nyowgre3wIFj"
      },
      "execution_count": null,
      "outputs": []
    },
    {
      "cell_type": "code",
      "source": [],
      "metadata": {
        "id": "jGG2bDblwIN1"
      },
      "execution_count": null,
      "outputs": []
    }
  ]
}