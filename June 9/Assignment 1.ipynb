{
  "nbformat": 4,
  "nbformat_minor": 0,
  "metadata": {
    "colab": {
      "provenance": []
    },
    "kernelspec": {
      "name": "python3",
      "display_name": "Python 3"
    },
    "language_info": {
      "name": "python"
    }
  },
  "cells": [
    {
      "cell_type": "code",
      "source": [
        "from google.colab import files\n",
        "files.upload()\n"
      ],
      "metadata": {
        "colab": {
          "base_uri": "https://localhost:8080/",
          "height": 236
        },
        "id": "iGe82kK9PMyq",
        "outputId": "d3e0dd87-98dc-42ec-a8be-58886b8e60d6"
      },
      "execution_count": 3,
      "outputs": [
        {
          "output_type": "display_data",
          "data": {
            "text/plain": [
              "<IPython.core.display.HTML object>"
            ],
            "text/html": [
              "\n",
              "     <input type=\"file\" id=\"files-98e6e9a4-b7ed-4e2c-a2bf-374f25f82db9\" name=\"files[]\" multiple disabled\n",
              "        style=\"border:none\" />\n",
              "     <output id=\"result-98e6e9a4-b7ed-4e2c-a2bf-374f25f82db9\">\n",
              "      Upload widget is only available when the cell has been executed in the\n",
              "      current browser session. Please rerun this cell to enable.\n",
              "      </output>\n",
              "      <script>// Copyright 2017 Google LLC\n",
              "//\n",
              "// Licensed under the Apache License, Version 2.0 (the \"License\");\n",
              "// you may not use this file except in compliance with the License.\n",
              "// You may obtain a copy of the License at\n",
              "//\n",
              "//      http://www.apache.org/licenses/LICENSE-2.0\n",
              "//\n",
              "// Unless required by applicable law or agreed to in writing, software\n",
              "// distributed under the License is distributed on an \"AS IS\" BASIS,\n",
              "// WITHOUT WARRANTIES OR CONDITIONS OF ANY KIND, either express or implied.\n",
              "// See the License for the specific language governing permissions and\n",
              "// limitations under the License.\n",
              "\n",
              "/**\n",
              " * @fileoverview Helpers for google.colab Python module.\n",
              " */\n",
              "(function(scope) {\n",
              "function span(text, styleAttributes = {}) {\n",
              "  const element = document.createElement('span');\n",
              "  element.textContent = text;\n",
              "  for (const key of Object.keys(styleAttributes)) {\n",
              "    element.style[key] = styleAttributes[key];\n",
              "  }\n",
              "  return element;\n",
              "}\n",
              "\n",
              "// Max number of bytes which will be uploaded at a time.\n",
              "const MAX_PAYLOAD_SIZE = 100 * 1024;\n",
              "\n",
              "function _uploadFiles(inputId, outputId) {\n",
              "  const steps = uploadFilesStep(inputId, outputId);\n",
              "  const outputElement = document.getElementById(outputId);\n",
              "  // Cache steps on the outputElement to make it available for the next call\n",
              "  // to uploadFilesContinue from Python.\n",
              "  outputElement.steps = steps;\n",
              "\n",
              "  return _uploadFilesContinue(outputId);\n",
              "}\n",
              "\n",
              "// This is roughly an async generator (not supported in the browser yet),\n",
              "// where there are multiple asynchronous steps and the Python side is going\n",
              "// to poll for completion of each step.\n",
              "// This uses a Promise to block the python side on completion of each step,\n",
              "// then passes the result of the previous step as the input to the next step.\n",
              "function _uploadFilesContinue(outputId) {\n",
              "  const outputElement = document.getElementById(outputId);\n",
              "  const steps = outputElement.steps;\n",
              "\n",
              "  const next = steps.next(outputElement.lastPromiseValue);\n",
              "  return Promise.resolve(next.value.promise).then((value) => {\n",
              "    // Cache the last promise value to make it available to the next\n",
              "    // step of the generator.\n",
              "    outputElement.lastPromiseValue = value;\n",
              "    return next.value.response;\n",
              "  });\n",
              "}\n",
              "\n",
              "/**\n",
              " * Generator function which is called between each async step of the upload\n",
              " * process.\n",
              " * @param {string} inputId Element ID of the input file picker element.\n",
              " * @param {string} outputId Element ID of the output display.\n",
              " * @return {!Iterable<!Object>} Iterable of next steps.\n",
              " */\n",
              "function* uploadFilesStep(inputId, outputId) {\n",
              "  const inputElement = document.getElementById(inputId);\n",
              "  inputElement.disabled = false;\n",
              "\n",
              "  const outputElement = document.getElementById(outputId);\n",
              "  outputElement.innerHTML = '';\n",
              "\n",
              "  const pickedPromise = new Promise((resolve) => {\n",
              "    inputElement.addEventListener('change', (e) => {\n",
              "      resolve(e.target.files);\n",
              "    });\n",
              "  });\n",
              "\n",
              "  const cancel = document.createElement('button');\n",
              "  inputElement.parentElement.appendChild(cancel);\n",
              "  cancel.textContent = 'Cancel upload';\n",
              "  const cancelPromise = new Promise((resolve) => {\n",
              "    cancel.onclick = () => {\n",
              "      resolve(null);\n",
              "    };\n",
              "  });\n",
              "\n",
              "  // Wait for the user to pick the files.\n",
              "  const files = yield {\n",
              "    promise: Promise.race([pickedPromise, cancelPromise]),\n",
              "    response: {\n",
              "      action: 'starting',\n",
              "    }\n",
              "  };\n",
              "\n",
              "  cancel.remove();\n",
              "\n",
              "  // Disable the input element since further picks are not allowed.\n",
              "  inputElement.disabled = true;\n",
              "\n",
              "  if (!files) {\n",
              "    return {\n",
              "      response: {\n",
              "        action: 'complete',\n",
              "      }\n",
              "    };\n",
              "  }\n",
              "\n",
              "  for (const file of files) {\n",
              "    const li = document.createElement('li');\n",
              "    li.append(span(file.name, {fontWeight: 'bold'}));\n",
              "    li.append(span(\n",
              "        `(${file.type || 'n/a'}) - ${file.size} bytes, ` +\n",
              "        `last modified: ${\n",
              "            file.lastModifiedDate ? file.lastModifiedDate.toLocaleDateString() :\n",
              "                                    'n/a'} - `));\n",
              "    const percent = span('0% done');\n",
              "    li.appendChild(percent);\n",
              "\n",
              "    outputElement.appendChild(li);\n",
              "\n",
              "    const fileDataPromise = new Promise((resolve) => {\n",
              "      const reader = new FileReader();\n",
              "      reader.onload = (e) => {\n",
              "        resolve(e.target.result);\n",
              "      };\n",
              "      reader.readAsArrayBuffer(file);\n",
              "    });\n",
              "    // Wait for the data to be ready.\n",
              "    let fileData = yield {\n",
              "      promise: fileDataPromise,\n",
              "      response: {\n",
              "        action: 'continue',\n",
              "      }\n",
              "    };\n",
              "\n",
              "    // Use a chunked sending to avoid message size limits. See b/62115660.\n",
              "    let position = 0;\n",
              "    do {\n",
              "      const length = Math.min(fileData.byteLength - position, MAX_PAYLOAD_SIZE);\n",
              "      const chunk = new Uint8Array(fileData, position, length);\n",
              "      position += length;\n",
              "\n",
              "      const base64 = btoa(String.fromCharCode.apply(null, chunk));\n",
              "      yield {\n",
              "        response: {\n",
              "          action: 'append',\n",
              "          file: file.name,\n",
              "          data: base64,\n",
              "        },\n",
              "      };\n",
              "\n",
              "      let percentDone = fileData.byteLength === 0 ?\n",
              "          100 :\n",
              "          Math.round((position / fileData.byteLength) * 100);\n",
              "      percent.textContent = `${percentDone}% done`;\n",
              "\n",
              "    } while (position < fileData.byteLength);\n",
              "  }\n",
              "\n",
              "  // All done.\n",
              "  yield {\n",
              "    response: {\n",
              "      action: 'complete',\n",
              "    }\n",
              "  };\n",
              "}\n",
              "\n",
              "scope.google = scope.google || {};\n",
              "scope.google.colab = scope.google.colab || {};\n",
              "scope.google.colab._files = {\n",
              "  _uploadFiles,\n",
              "  _uploadFilesContinue,\n",
              "};\n",
              "})(self);\n",
              "</script> "
            ]
          },
          "metadata": {}
        },
        {
          "output_type": "stream",
          "name": "stdout",
          "text": [
            "Saving orders.csv to orders (1).csv\n",
            "Saving customers.csv to customers (1).csv\n"
          ]
        },
        {
          "output_type": "execute_result",
          "data": {
            "text/plain": [
              "{'orders (1).csv': b'OrderID,CustomerID,Product,Category,Quantity,Price,OrderDate\\r\\n1,101,Laptop,Electronics,2,50000,10-01-2024\\r\\n2,101,Mouse,Electronics,1,1200,15-01-2024\\r\\n3,102,Tablet,Electronics,1,20000,01-02-2024\\r\\n4,103,Bookshelf,Furniture,1,3500,10-02-2024\\r\\n5,104,Mixer,Appliances,1,5000,15-02-2024\\r\\n6,105,Notebook,Stationery,5,500,01-03-2024\\r\\n7,102,Phone,Electronics,1,30000,02-03-2024\\r\\n',\n",
              " 'customers (1).csv': b'CustomerID,Name,Email,City,SignupDate\\r\\n101,Ali,ali@gmail.com,Mumbai,10-05-2022\\r\\n102,Neha,neha@yahoo.com,Delhi,15-01-2023\\r\\n103,Ravi,ravi@hotmail.com,Bangalore,01-11-2021\\r\\n104,Sneha,sneha@outlook.com,Hyderabad,22-07-2020\\r\\n105,Amit,amit@gmail.com,Chennai,10-03-2023\\r\\n'}"
            ]
          },
          "metadata": {},
          "execution_count": 3
        }
      ]
    },
    {
      "cell_type": "code",
      "source": [
        "customers_df = spark.read.csv(\"customers.csv\", header=True, inferSchema=True)\n",
        "orders_df = spark.read.csv(\"orders.csv\", header=True, inferSchema=True)\n"
      ],
      "metadata": {
        "id": "YL-y1pOFPRjg"
      },
      "execution_count": 4,
      "outputs": []
    },
    {
      "cell_type": "code",
      "execution_count": 6,
      "metadata": {
        "colab": {
          "base_uri": "https://localhost:8080/"
        },
        "id": "lWRisiaqNwCc",
        "outputId": "9f54497d-29b0-455d-e904-e5ca633afd9e"
      },
      "outputs": [
        {
          "output_type": "stream",
          "name": "stdout",
          "text": [
            "root\n",
            " |-- CustomerID: integer (nullable = true)\n",
            " |-- Name: string (nullable = true)\n",
            " |-- Email: string (nullable = true)\n",
            " |-- City: string (nullable = true)\n",
            " |-- SignupDate: string (nullable = true)\n",
            "\n",
            "root\n",
            " |-- OrderID: integer (nullable = true)\n",
            " |-- CustomerID: integer (nullable = true)\n",
            " |-- Product: string (nullable = true)\n",
            " |-- Category: string (nullable = true)\n",
            " |-- Quantity: integer (nullable = true)\n",
            " |-- Price: integer (nullable = true)\n",
            " |-- OrderDate: string (nullable = true)\n",
            "\n",
            "Total Customers: 5\n",
            "Total Orders: 7\n",
            "+---------+\n",
            "|     City|\n",
            "+---------+\n",
            "|Bangalore|\n",
            "|  Chennai|\n",
            "|   Mumbai|\n",
            "|    Delhi|\n",
            "|Hyderabad|\n",
            "+---------+\n",
            "\n"
          ]
        }
      ],
      "source": [
        "# Setup Spark\n",
        "from pyspark.sql import SparkSession\n",
        "from pyspark.sql.functions import *\n",
        "from pyspark.sql.types import *\n",
        "\n",
        "spark = SparkSession.builder.appName(\"PracticeProject\").getOrCreate()\n",
        "\n",
        "# Task 1: Data Ingestion & Exploration (Updated for Colab)\n",
        "customers_df = spark.read.csv(\"customers.csv\", header=True, inferSchema=True)\n",
        "orders_df = spark.read.csv(\"orders.csv\", header=True, inferSchema=True)\n",
        "\n",
        "customers_df.printSchema()\n",
        "orders_df.printSchema()\n",
        "\n",
        "print(\"Total Customers:\", customers_df.count())\n",
        "print(\"Total Orders:\", orders_df.count())\n",
        "customers_df.select(\"City\").distinct().show()\n"
      ]
    },
    {
      "cell_type": "code",
      "source": [
        "# Task 2: DataFrame Transformations\n",
        "\n",
        "orders_df = orders_df.withColumn(\"TotalAmount\", col(\"Price\") * col(\"Quantity\"))\n",
        "\n",
        "orders_df = orders_df.withColumn(\"OrderYear\", year(\"OrderDate\"))\n",
        "\n",
        "orders_df.filter(col(\"TotalAmount\") > 10000).show()\n",
        "\n",
        "customers_df = customers_df.drop(\"Email\")\n",
        "\n",
        "customers_df.show()\n",
        "orders_df.show()\n"
      ],
      "metadata": {
        "colab": {
          "base_uri": "https://localhost:8080/"
        },
        "id": "zaE7VzdYPk9K",
        "outputId": "3dbd7c6e-1ed5-4063-9b83-aca00a8e57b3"
      },
      "execution_count": 7,
      "outputs": [
        {
          "output_type": "stream",
          "name": "stdout",
          "text": [
            "+-------+----------+-------+-----------+--------+-----+----------+-----------+---------+\n",
            "|OrderID|CustomerID|Product|   Category|Quantity|Price| OrderDate|TotalAmount|OrderYear|\n",
            "+-------+----------+-------+-----------+--------+-----+----------+-----------+---------+\n",
            "|      1|       101| Laptop|Electronics|       2|50000|10-01-2024|     100000|     NULL|\n",
            "|      3|       102| Tablet|Electronics|       1|20000|01-02-2024|      20000|     NULL|\n",
            "|      7|       102|  Phone|Electronics|       1|30000|02-03-2024|      30000|     NULL|\n",
            "+-------+----------+-------+-----------+--------+-----+----------+-----------+---------+\n",
            "\n",
            "+----------+-----+---------+----------+\n",
            "|CustomerID| Name|     City|SignupDate|\n",
            "+----------+-----+---------+----------+\n",
            "|       101|  Ali|   Mumbai|10-05-2022|\n",
            "|       102| Neha|    Delhi|15-01-2023|\n",
            "|       103| Ravi|Bangalore|01-11-2021|\n",
            "|       104|Sneha|Hyderabad|22-07-2020|\n",
            "|       105| Amit|  Chennai|10-03-2023|\n",
            "+----------+-----+---------+----------+\n",
            "\n",
            "+-------+----------+---------+-----------+--------+-----+----------+-----------+---------+\n",
            "|OrderID|CustomerID|  Product|   Category|Quantity|Price| OrderDate|TotalAmount|OrderYear|\n",
            "+-------+----------+---------+-----------+--------+-----+----------+-----------+---------+\n",
            "|      1|       101|   Laptop|Electronics|       2|50000|10-01-2024|     100000|     NULL|\n",
            "|      2|       101|    Mouse|Electronics|       1| 1200|15-01-2024|       1200|     NULL|\n",
            "|      3|       102|   Tablet|Electronics|       1|20000|01-02-2024|      20000|     NULL|\n",
            "|      4|       103|Bookshelf|  Furniture|       1| 3500|10-02-2024|       3500|     NULL|\n",
            "|      5|       104|    Mixer| Appliances|       1| 5000|15-02-2024|       5000|     NULL|\n",
            "|      6|       105| Notebook| Stationery|       5|  500|01-03-2024|       2500|     NULL|\n",
            "|      7|       102|    Phone|Electronics|       1|30000|02-03-2024|      30000|     NULL|\n",
            "+-------+----------+---------+-----------+--------+-----+----------+-----------+---------+\n",
            "\n"
          ]
        }
      ]
    },
    {
      "cell_type": "code",
      "source": [
        "# Task 3: Handling Nulls & Conditionals\n",
        "\n",
        "customers_df = customers_df.withColumn(\"City\", when(col(\"City\") == \"Chennai\", None).otherwise(col(\"City\")))\n",
        "customers_df = customers_df.fillna({\"City\": \"Unknown\"})\n",
        "\n",
        "customers_df = customers_df.withColumn(\n",
        "    \"CustomerStatus\",\n",
        "    when(col(\"SignupDate\") < \"2022-01-01\", \"Loyal\").otherwise(\"New\")\n",
        ")\n",
        "\n",
        "orders_df = orders_df.withColumn(\n",
        "    \"OrderType\",\n",
        "    when(col(\"TotalAmount\") < 5000, \"Low\").otherwise(\"High\")\n",
        ")\n",
        "\n",
        "customers_df.show()\n",
        "orders_df.select(\"OrderID\", \"Product\", \"TotalAmount\", \"OrderType\").show()\n"
      ],
      "metadata": {
        "colab": {
          "base_uri": "https://localhost:8080/"
        },
        "id": "A0X_dHw6P2O1",
        "outputId": "7b406b12-8064-48d0-9abe-08c8431e1a64"
      },
      "execution_count": 8,
      "outputs": [
        {
          "output_type": "stream",
          "name": "stdout",
          "text": [
            "+----------+-----+---------+----------+--------------+\n",
            "|CustomerID| Name|     City|SignupDate|CustomerStatus|\n",
            "+----------+-----+---------+----------+--------------+\n",
            "|       101|  Ali|   Mumbai|10-05-2022|         Loyal|\n",
            "|       102| Neha|    Delhi|15-01-2023|         Loyal|\n",
            "|       103| Ravi|Bangalore|01-11-2021|         Loyal|\n",
            "|       104|Sneha|Hyderabad|22-07-2020|           New|\n",
            "|       105| Amit|  Unknown|10-03-2023|         Loyal|\n",
            "+----------+-----+---------+----------+--------------+\n",
            "\n",
            "+-------+---------+-----------+---------+\n",
            "|OrderID|  Product|TotalAmount|OrderType|\n",
            "+-------+---------+-----------+---------+\n",
            "|      1|   Laptop|     100000|     High|\n",
            "|      2|    Mouse|       1200|      Low|\n",
            "|      3|   Tablet|      20000|     High|\n",
            "|      4|Bookshelf|       3500|      Low|\n",
            "|      5|    Mixer|       5000|     High|\n",
            "|      6| Notebook|       2500|      Low|\n",
            "|      7|    Phone|      30000|     High|\n",
            "+-------+---------+-----------+---------+\n",
            "\n"
          ]
        }
      ]
    },
    {
      "cell_type": "code",
      "source": [
        "# Task 4: Joins & Aggregations\n",
        "\n",
        "\n",
        "joined_df = customers_df.join(orders_df, on=\"CustomerID\", how=\"inner\")\n",
        "\n",
        "joined_df.groupBy(\"City\").agg(\n",
        "    count(\"OrderID\").alias(\"TotalOrders\"),\n",
        "    sum(\"TotalAmount\").alias(\"TotalRevenue\")\n",
        ").show()\n",
        "\n",
        "joined_df.groupBy(\"Name\").agg(\n",
        "    sum(\"TotalAmount\").alias(\"TotalSpend\")\n",
        ").orderBy(desc(\"TotalSpend\")).show(3)\n",
        "\n",
        "orders_df.groupBy(\"Category\").agg(\n",
        "    count(\"Product\").alias(\"ProductsSold\")\n",
        ").show()\n"
      ],
      "metadata": {
        "colab": {
          "base_uri": "https://localhost:8080/"
        },
        "id": "2M2Gi21lP8PC",
        "outputId": "4cef93b3-11bf-46bd-cd5f-0189d43dcbdc"
      },
      "execution_count": 9,
      "outputs": [
        {
          "output_type": "stream",
          "name": "stdout",
          "text": [
            "+---------+-----------+------------+\n",
            "|     City|TotalOrders|TotalRevenue|\n",
            "+---------+-----------+------------+\n",
            "|Bangalore|          1|        3500|\n",
            "|   Mumbai|          2|      101200|\n",
            "|  Unknown|          1|        2500|\n",
            "|    Delhi|          2|       50000|\n",
            "|Hyderabad|          1|        5000|\n",
            "+---------+-----------+------------+\n",
            "\n",
            "+-----+----------+\n",
            "| Name|TotalSpend|\n",
            "+-----+----------+\n",
            "|  Ali|    101200|\n",
            "| Neha|     50000|\n",
            "|Sneha|      5000|\n",
            "+-----+----------+\n",
            "only showing top 3 rows\n",
            "\n",
            "+-----------+------------+\n",
            "|   Category|ProductsSold|\n",
            "+-----------+------------+\n",
            "| Stationery|           1|\n",
            "|Electronics|           4|\n",
            "|  Furniture|           1|\n",
            "| Appliances|           1|\n",
            "+-----------+------------+\n",
            "\n"
          ]
        }
      ]
    },
    {
      "cell_type": "code",
      "source": [
        "# Task 5: Spark SQL Tasks\n",
        "\n",
        "\n",
        "customers_df.createOrReplaceTempView(\"customers\")\n",
        "orders_df.createOrReplaceTempView(\"orders\")\n",
        "\n",
        "spark.sql(\"\"\"\n",
        "    SELECT o.* FROM orders o\n",
        "    JOIN customers c ON o.CustomerID = c.CustomerID\n",
        "    WHERE c.City = 'Delhi'\n",
        "\"\"\").show()\n",
        "\n",
        "spark.sql(\"\"\"\n",
        "    SELECT Category, AVG(TotalAmount) as AverageOrderValue\n",
        "    FROM orders\n",
        "    GROUP BY Category\n",
        "\"\"\").show()\n",
        "\n",
        "monthly_orders_df = orders_df.withColumn(\"OrderMonth\", date_format(\"OrderDate\", \"MMMM\"))\n",
        "monthly_orders_df.createOrReplaceTempView(\"monthly_orders\")\n",
        "\n",
        "spark.sql(\"\"\"\n",
        "    SELECT OrderMonth, SUM(TotalAmount) as MonthlyTotal\n",
        "    FROM monthly_orders\n",
        "    GROUP BY OrderMonth\n",
        "\"\"\").show()\n"
      ],
      "metadata": {
        "colab": {
          "base_uri": "https://localhost:8080/"
        },
        "id": "6mePKKXzQA9v",
        "outputId": "c31e62c0-9071-4089-ed7e-731701839a3f"
      },
      "execution_count": 10,
      "outputs": [
        {
          "output_type": "stream",
          "name": "stdout",
          "text": [
            "+-------+----------+-------+-----------+--------+-----+----------+-----------+---------+---------+\n",
            "|OrderID|CustomerID|Product|   Category|Quantity|Price| OrderDate|TotalAmount|OrderYear|OrderType|\n",
            "+-------+----------+-------+-----------+--------+-----+----------+-----------+---------+---------+\n",
            "|      3|       102| Tablet|Electronics|       1|20000|01-02-2024|      20000|     NULL|     High|\n",
            "|      7|       102|  Phone|Electronics|       1|30000|02-03-2024|      30000|     NULL|     High|\n",
            "+-------+----------+-------+-----------+--------+-----+----------+-----------+---------+---------+\n",
            "\n",
            "+-----------+-----------------+\n",
            "|   Category|AverageOrderValue|\n",
            "+-----------+-----------------+\n",
            "| Stationery|           2500.0|\n",
            "|Electronics|          37800.0|\n",
            "|  Furniture|           3500.0|\n",
            "| Appliances|           5000.0|\n",
            "+-----------+-----------------+\n",
            "\n",
            "+----------+------------+\n",
            "|OrderMonth|MonthlyTotal|\n",
            "+----------+------------+\n",
            "|      NULL|      162200|\n",
            "+----------+------------+\n",
            "\n"
          ]
        }
      ]
    },
    {
      "cell_type": "code",
      "source": [
        "# Task 6: String & Date Functions\n",
        "\n",
        "masked_df = customers_df.withColumn(\n",
        "    \"MaskedEmail\",\n",
        "    regexp_replace(\"Name\", r\"(.).*\", r\"\\1***@example.com\")\n",
        ")\n",
        "\n",
        "masked_df = masked_df.withColumn(\"NameCity\", concat_ws(\" from \", col(\"Name\"), col(\"City\")))\n",
        "\n",
        "masked_df = masked_df.withColumn(\"CustomerAgeInDays\", datediff(current_date(), col(\"SignupDate\")))\n",
        "\n",
        "orders_df = orders_df.withColumn(\"MonthName\", date_format(\"OrderDate\", \"MMMM\"))\n",
        "\n",
        "masked_df.select(\"CustomerID\", \"NameCity\", \"CustomerAgeInDays\").show()\n",
        "orders_df.select(\"OrderID\", \"OrderDate\", \"MonthName\").show()\n"
      ],
      "metadata": {
        "colab": {
          "base_uri": "https://localhost:8080/"
        },
        "id": "J8cX6dIaQKKS",
        "outputId": "690f811b-8664-42f4-d8e0-74b5b322d6bf"
      },
      "execution_count": 11,
      "outputs": [
        {
          "output_type": "stream",
          "name": "stdout",
          "text": [
            "+----------+--------------------+-----------------+\n",
            "|CustomerID|            NameCity|CustomerAgeInDays|\n",
            "+----------+--------------------+-----------------+\n",
            "|       101|     Ali from Mumbai|             NULL|\n",
            "|       102|     Neha from Delhi|             NULL|\n",
            "|       103| Ravi from Bangalore|             NULL|\n",
            "|       104|Sneha from Hyderabad|             NULL|\n",
            "|       105|   Amit from Unknown|             NULL|\n",
            "+----------+--------------------+-----------------+\n",
            "\n",
            "+-------+----------+---------+\n",
            "|OrderID| OrderDate|MonthName|\n",
            "+-------+----------+---------+\n",
            "|      1|10-01-2024|     NULL|\n",
            "|      2|15-01-2024|     NULL|\n",
            "|      3|01-02-2024|     NULL|\n",
            "|      4|10-02-2024|     NULL|\n",
            "|      5|15-02-2024|     NULL|\n",
            "|      6|01-03-2024|     NULL|\n",
            "|      7|02-03-2024|     NULL|\n",
            "+-------+----------+---------+\n",
            "\n"
          ]
        }
      ]
    },
    {
      "cell_type": "code",
      "source": [
        "# Task 7: UDFs and Complex Logic\n",
        "\n",
        "\n",
        "def tag_customer(spend):\n",
        "    return \"Gold\" if spend > 50000 else \"Silver\" if spend >= 10000 else \"Bronze\"\n",
        "\n",
        "def shorten_product(name):\n",
        "    return name[:3] + \"...\" if len(name) > 3 else name\n",
        "\n",
        "from pyspark.sql.functions import udf\n",
        "from pyspark.sql.types import StringType\n",
        "\n",
        "tag_udf = udf(tag_customer, StringType())\n",
        "shorten_udf = udf(shorten_product, StringType())\n",
        "\n",
        "spend_df = joined_df.groupBy(\"CustomerID\").agg(sum(\"TotalAmount\").alias(\"TotalSpend\"))\n",
        "spend_df = spend_df.withColumn(\"CustomerTag\", tag_udf(\"TotalSpend\"))\n",
        "spend_df.show()\n",
        "\n",
        "orders_df = orders_df.withColumn(\"ShortProduct\", shorten_udf(\"Product\"))\n",
        "orders_df.select(\"Product\", \"ShortProduct\").show()\n"
      ],
      "metadata": {
        "colab": {
          "base_uri": "https://localhost:8080/"
        },
        "id": "zxfUmYTxQPqi",
        "outputId": "3aa3080b-8ff3-4441-d9e6-a545106426f4"
      },
      "execution_count": 12,
      "outputs": [
        {
          "output_type": "stream",
          "name": "stdout",
          "text": [
            "+----------+----------+-----------+\n",
            "|CustomerID|TotalSpend|CustomerTag|\n",
            "+----------+----------+-----------+\n",
            "|       101|    101200|       Gold|\n",
            "|       103|      3500|     Bronze|\n",
            "|       102|     50000|     Silver|\n",
            "|       105|      2500|     Bronze|\n",
            "|       104|      5000|     Bronze|\n",
            "+----------+----------+-----------+\n",
            "\n",
            "+---------+------------+\n",
            "|  Product|ShortProduct|\n",
            "+---------+------------+\n",
            "|   Laptop|      Lap...|\n",
            "|    Mouse|      Mou...|\n",
            "|   Tablet|      Tab...|\n",
            "|Bookshelf|      Boo...|\n",
            "|    Mixer|      Mix...|\n",
            "| Notebook|      Not...|\n",
            "|    Phone|      Pho...|\n",
            "+---------+------------+\n",
            "\n"
          ]
        }
      ]
    },
    {
      "cell_type": "code",
      "source": [
        "# Task 8: Parquet & Views\n",
        "\n",
        "joined_df.write.mode(\"overwrite\").parquet(\"joined_result.parquet\")\n",
        "\n",
        "parquet_df = spark.read.parquet(\"joined_result.parquet\")\n",
        "parquet_df.printSchema()\n",
        "\n",
        "parquet_df.createOrReplaceGlobalTempView(\"global_orders\")\n",
        "\n",
        "spark.sql(\"SELECT * FROM global_temp.global_orders LIMIT 5\").show()\n",
        "\n",
        "import time\n",
        "\n",
        "start_csv = time.time()\n",
        "_ = spark.read.csv(\"orders.csv\", header=True, inferSchema=True)\n",
        "print(\"CSV read time:\", time.time() - start_csv, \"seconds\")\n",
        "\n",
        "start_parquet = time.time()\n",
        "_ = spark.read.parquet(\"joined_result.parquet\")\n",
        "print(\"Parquet read time:\", time.time() - start_parquet, \"seconds\")\n"
      ],
      "metadata": {
        "id": "En0ot0JyQUd2",
        "outputId": "ad733d41-3f4b-4541-fa15-e46a91603f70",
        "colab": {
          "base_uri": "https://localhost:8080/"
        }
      },
      "execution_count": 13,
      "outputs": [
        {
          "output_type": "stream",
          "name": "stdout",
          "text": [
            "root\n",
            " |-- CustomerID: integer (nullable = true)\n",
            " |-- Name: string (nullable = true)\n",
            " |-- City: string (nullable = true)\n",
            " |-- SignupDate: string (nullable = true)\n",
            " |-- CustomerStatus: string (nullable = true)\n",
            " |-- OrderID: integer (nullable = true)\n",
            " |-- Product: string (nullable = true)\n",
            " |-- Category: string (nullable = true)\n",
            " |-- Quantity: integer (nullable = true)\n",
            " |-- Price: integer (nullable = true)\n",
            " |-- OrderDate: string (nullable = true)\n",
            " |-- TotalAmount: integer (nullable = true)\n",
            " |-- OrderYear: integer (nullable = true)\n",
            " |-- OrderType: string (nullable = true)\n",
            "\n",
            "+----------+-----+---------+----------+--------------+-------+---------+-----------+--------+-----+----------+-----------+---------+---------+\n",
            "|CustomerID| Name|     City|SignupDate|CustomerStatus|OrderID|  Product|   Category|Quantity|Price| OrderDate|TotalAmount|OrderYear|OrderType|\n",
            "+----------+-----+---------+----------+--------------+-------+---------+-----------+--------+-----+----------+-----------+---------+---------+\n",
            "|       101|  Ali|   Mumbai|10-05-2022|         Loyal|      1|   Laptop|Electronics|       2|50000|10-01-2024|     100000|     NULL|     High|\n",
            "|       101|  Ali|   Mumbai|10-05-2022|         Loyal|      2|    Mouse|Electronics|       1| 1200|15-01-2024|       1200|     NULL|      Low|\n",
            "|       102| Neha|    Delhi|15-01-2023|         Loyal|      3|   Tablet|Electronics|       1|20000|01-02-2024|      20000|     NULL|     High|\n",
            "|       103| Ravi|Bangalore|01-11-2021|         Loyal|      4|Bookshelf|  Furniture|       1| 3500|10-02-2024|       3500|     NULL|      Low|\n",
            "|       104|Sneha|Hyderabad|22-07-2020|           New|      5|    Mixer| Appliances|       1| 5000|15-02-2024|       5000|     NULL|     High|\n",
            "+----------+-----+---------+----------+--------------+-------+---------+-----------+--------+-----+----------+-----------+---------+---------+\n",
            "\n",
            "CSV read time: 0.7161293029785156 seconds\n",
            "Parquet read time: 0.48745012283325195 seconds\n"
          ]
        }
      ]
    }
  ]
}